{
  "nbformat": 4,
  "nbformat_minor": 0,
  "metadata": {
    "colab": {
      "name": "classifying_shapes.ipynb",
      "provenance": [],
      "mount_file_id": "1A4WPEPlIhwwiRITtU8XG0p1jcExvN_i_",
      "authorship_tag": "ABX9TyOh8vcx0tCBzjxrgeO91OZM",
      "include_colab_link": true
    },
    "kernelspec": {
      "name": "python3",
      "display_name": "Python 3"
    },
    "accelerator": "GPU",
    "widgets": {
      "application/vnd.jupyter.widget-state+json": {
        "b3af605082bb4a5bb297459d840aee74": {
          "model_module": "@jupyter-widgets/controls",
          "model_name": "HBoxModel",
          "state": {
            "_view_name": "HBoxView",
            "_dom_classes": [],
            "_model_name": "HBoxModel",
            "_view_module": "@jupyter-widgets/controls",
            "_model_module_version": "1.5.0",
            "_view_count": null,
            "_view_module_version": "1.5.0",
            "box_style": "",
            "layout": "IPY_MODEL_595d1019ad744c0584b35cf1781ec422",
            "_model_module": "@jupyter-widgets/controls",
            "children": [
              "IPY_MODEL_d219a3d54d8e4762ae2b54a1ec26b151",
              "IPY_MODEL_00c4803c16a64db6a6af6a0721009489"
            ]
          }
        },
        "595d1019ad744c0584b35cf1781ec422": {
          "model_module": "@jupyter-widgets/base",
          "model_name": "LayoutModel",
          "state": {
            "_view_name": "LayoutView",
            "grid_template_rows": null,
            "right": null,
            "justify_content": null,
            "_view_module": "@jupyter-widgets/base",
            "overflow": null,
            "_model_module_version": "1.2.0",
            "_view_count": null,
            "flex_flow": null,
            "width": null,
            "min_width": null,
            "border": null,
            "align_items": null,
            "bottom": null,
            "_model_module": "@jupyter-widgets/base",
            "top": null,
            "grid_column": null,
            "overflow_y": null,
            "overflow_x": null,
            "grid_auto_flow": null,
            "grid_area": null,
            "grid_template_columns": null,
            "flex": null,
            "_model_name": "LayoutModel",
            "justify_items": null,
            "grid_row": null,
            "max_height": null,
            "align_content": null,
            "visibility": null,
            "align_self": null,
            "height": null,
            "min_height": null,
            "padding": null,
            "grid_auto_rows": null,
            "grid_gap": null,
            "max_width": null,
            "order": null,
            "_view_module_version": "1.2.0",
            "grid_template_areas": null,
            "object_position": null,
            "object_fit": null,
            "grid_auto_columns": null,
            "margin": null,
            "display": null,
            "left": null
          }
        },
        "d219a3d54d8e4762ae2b54a1ec26b151": {
          "model_module": "@jupyter-widgets/controls",
          "model_name": "FloatProgressModel",
          "state": {
            "_view_name": "ProgressView",
            "style": "IPY_MODEL_a92c021323d74fe59fb7294424aceb19",
            "_dom_classes": [],
            "description": "100%",
            "_model_name": "FloatProgressModel",
            "bar_style": "success",
            "max": 240,
            "_view_module": "@jupyter-widgets/controls",
            "_model_module_version": "1.5.0",
            "value": 240,
            "_view_count": null,
            "_view_module_version": "1.5.0",
            "orientation": "horizontal",
            "min": 0,
            "description_tooltip": null,
            "_model_module": "@jupyter-widgets/controls",
            "layout": "IPY_MODEL_02599552a1c94db79a69829b26c58db8"
          }
        },
        "00c4803c16a64db6a6af6a0721009489": {
          "model_module": "@jupyter-widgets/controls",
          "model_name": "HTMLModel",
          "state": {
            "_view_name": "HTMLView",
            "style": "IPY_MODEL_681ff51a4a9648e5a1b5a5e409bfed20",
            "_dom_classes": [],
            "description": "",
            "_model_name": "HTMLModel",
            "placeholder": "​",
            "_view_module": "@jupyter-widgets/controls",
            "_model_module_version": "1.5.0",
            "value": " 240/240 [02:34&lt;00:00,  1.55it/s]",
            "_view_count": null,
            "_view_module_version": "1.5.0",
            "description_tooltip": null,
            "_model_module": "@jupyter-widgets/controls",
            "layout": "IPY_MODEL_1bbff24b89004a43b5503e022ba177d4"
          }
        },
        "a92c021323d74fe59fb7294424aceb19": {
          "model_module": "@jupyter-widgets/controls",
          "model_name": "ProgressStyleModel",
          "state": {
            "_view_name": "StyleView",
            "_model_name": "ProgressStyleModel",
            "description_width": "initial",
            "_view_module": "@jupyter-widgets/base",
            "_model_module_version": "1.5.0",
            "_view_count": null,
            "_view_module_version": "1.2.0",
            "bar_color": null,
            "_model_module": "@jupyter-widgets/controls"
          }
        },
        "02599552a1c94db79a69829b26c58db8": {
          "model_module": "@jupyter-widgets/base",
          "model_name": "LayoutModel",
          "state": {
            "_view_name": "LayoutView",
            "grid_template_rows": null,
            "right": null,
            "justify_content": null,
            "_view_module": "@jupyter-widgets/base",
            "overflow": null,
            "_model_module_version": "1.2.0",
            "_view_count": null,
            "flex_flow": null,
            "width": null,
            "min_width": null,
            "border": null,
            "align_items": null,
            "bottom": null,
            "_model_module": "@jupyter-widgets/base",
            "top": null,
            "grid_column": null,
            "overflow_y": null,
            "overflow_x": null,
            "grid_auto_flow": null,
            "grid_area": null,
            "grid_template_columns": null,
            "flex": null,
            "_model_name": "LayoutModel",
            "justify_items": null,
            "grid_row": null,
            "max_height": null,
            "align_content": null,
            "visibility": null,
            "align_self": null,
            "height": null,
            "min_height": null,
            "padding": null,
            "grid_auto_rows": null,
            "grid_gap": null,
            "max_width": null,
            "order": null,
            "_view_module_version": "1.2.0",
            "grid_template_areas": null,
            "object_position": null,
            "object_fit": null,
            "grid_auto_columns": null,
            "margin": null,
            "display": null,
            "left": null
          }
        },
        "681ff51a4a9648e5a1b5a5e409bfed20": {
          "model_module": "@jupyter-widgets/controls",
          "model_name": "DescriptionStyleModel",
          "state": {
            "_view_name": "StyleView",
            "_model_name": "DescriptionStyleModel",
            "description_width": "",
            "_view_module": "@jupyter-widgets/base",
            "_model_module_version": "1.5.0",
            "_view_count": null,
            "_view_module_version": "1.2.0",
            "_model_module": "@jupyter-widgets/controls"
          }
        },
        "1bbff24b89004a43b5503e022ba177d4": {
          "model_module": "@jupyter-widgets/base",
          "model_name": "LayoutModel",
          "state": {
            "_view_name": "LayoutView",
            "grid_template_rows": null,
            "right": null,
            "justify_content": null,
            "_view_module": "@jupyter-widgets/base",
            "overflow": null,
            "_model_module_version": "1.2.0",
            "_view_count": null,
            "flex_flow": null,
            "width": null,
            "min_width": null,
            "border": null,
            "align_items": null,
            "bottom": null,
            "_model_module": "@jupyter-widgets/base",
            "top": null,
            "grid_column": null,
            "overflow_y": null,
            "overflow_x": null,
            "grid_auto_flow": null,
            "grid_area": null,
            "grid_template_columns": null,
            "flex": null,
            "_model_name": "LayoutModel",
            "justify_items": null,
            "grid_row": null,
            "max_height": null,
            "align_content": null,
            "visibility": null,
            "align_self": null,
            "height": null,
            "min_height": null,
            "padding": null,
            "grid_auto_rows": null,
            "grid_gap": null,
            "max_width": null,
            "order": null,
            "_view_module_version": "1.2.0",
            "grid_template_areas": null,
            "object_position": null,
            "object_fit": null,
            "grid_auto_columns": null,
            "margin": null,
            "display": null,
            "left": null
          }
        }
      }
    }
  },
  "cells": [
    {
      "cell_type": "markdown",
      "metadata": {
        "id": "view-in-github",
        "colab_type": "text"
      },
      "source": [
        "<a href=\"https://colab.research.google.com/github/LeilaYK/Classifying_Shapes/blob/main/classifying_shapes.ipynb\" target=\"_parent\"><img src=\"https://colab.research.google.com/assets/colab-badge.svg\" alt=\"Open In Colab\"/></a>"
      ]
    },
    {
      "cell_type": "code",
      "metadata": {
        "id": "rb2mSjtjzekm"
      },
      "source": [
        "import os"
      ],
      "execution_count": 1,
      "outputs": []
    },
    {
      "cell_type": "code",
      "metadata": {
        "colab": {
          "base_uri": "https://localhost:8080/",
          "height": 35
        },
        "id": "NfCXGOq5zkBM",
        "outputId": "d66ceb24-edd8-4258-882b-be9a2669a8a0"
      },
      "source": [
        "os.getcwd()"
      ],
      "execution_count": 2,
      "outputs": [
        {
          "output_type": "execute_result",
          "data": {
            "application/vnd.google.colaboratory.intrinsic+json": {
              "type": "string"
            },
            "text/plain": [
              "'/content'"
            ]
          },
          "metadata": {
            "tags": []
          },
          "execution_count": 2
        }
      ]
    },
    {
      "cell_type": "code",
      "metadata": {
        "colab": {
          "base_uri": "https://localhost:8080/"
        },
        "id": "O03B6Nl_2hWq",
        "outputId": "410540d0-d034-4930-c77b-53594eb0121d"
      },
      "source": [
        "os.listdir()"
      ],
      "execution_count": 3,
      "outputs": [
        {
          "output_type": "execute_result",
          "data": {
            "text/plain": [
              "['.config', 'drive', 'sample_data']"
            ]
          },
          "metadata": {
            "tags": []
          },
          "execution_count": 3
        }
      ]
    },
    {
      "cell_type": "code",
      "metadata": {
        "colab": {
          "base_uri": "https://localhost:8080/"
        },
        "id": "uhNbltKH2nY8",
        "outputId": "3b0d053a-9475-4801-d92e-809e37cbfbe8"
      },
      "source": [
        "path = './drive/MyDrive/CTS/train/'\n",
        "os.listdir(path)"
      ],
      "execution_count": 4,
      "outputs": [
        {
          "output_type": "execute_result",
          "data": {
            "text/plain": [
              "['circle057.png',\n",
              " 'circle055.png',\n",
              " 'circle060.png',\n",
              " 'circle052.png',\n",
              " 'circle058.png',\n",
              " 'circle059.png',\n",
              " 'circle056.png',\n",
              " 'circle054.png',\n",
              " 'circle051.png',\n",
              " 'circle053.png',\n",
              " 'circle049.png',\n",
              " 'circle050.png',\n",
              " 'circle040.png',\n",
              " 'circle041.png',\n",
              " 'circle044.png',\n",
              " 'circle048.png',\n",
              " 'circle047.png',\n",
              " 'circle046.png',\n",
              " 'circle043.png',\n",
              " 'circle045.png',\n",
              " 'circle042.png',\n",
              " 'circle035.png',\n",
              " 'circle037.png',\n",
              " 'circle038.png',\n",
              " 'circle033.png',\n",
              " 'circle039.png',\n",
              " 'circle034.png',\n",
              " 'circle032.png',\n",
              " 'circle036.png',\n",
              " 'circle030.png',\n",
              " 'circle031.png',\n",
              " 'circle025.png',\n",
              " 'circle028.png',\n",
              " 'circle029.png',\n",
              " 'circle026.png',\n",
              " 'circle027.png',\n",
              " 'circle020.png',\n",
              " 'circle024.png',\n",
              " 'circle022.png',\n",
              " 'circle021.png',\n",
              " 'circle023.png',\n",
              " 'circle017.png',\n",
              " 'circle016.png',\n",
              " 'circle018.png',\n",
              " 'circle019.png',\n",
              " 'circle014.png',\n",
              " 'circle015.png',\n",
              " 'circle012.png',\n",
              " 'circle013.png',\n",
              " 'circle006.png',\n",
              " 'circle011.png',\n",
              " 'circle007.png',\n",
              " 'circle009.png',\n",
              " 'circle010.png',\n",
              " 'circle008.png',\n",
              " 'circle002.png',\n",
              " 'circle004.png',\n",
              " 'circle005.png',\n",
              " 'circle003.png',\n",
              " 'circle001.png',\n",
              " 'Square080.png',\n",
              " 'Square077.png',\n",
              " 'Square078.png',\n",
              " 'Square076.png',\n",
              " 'Square079.png',\n",
              " 'Square070.png',\n",
              " 'Square073.png',\n",
              " 'Square068.png',\n",
              " 'Square075.png',\n",
              " 'Square074.png',\n",
              " 'Square071.png',\n",
              " 'Square072.png',\n",
              " 'Square069.png',\n",
              " 'Square066.png',\n",
              " 'Square067.png',\n",
              " 'Square063.png',\n",
              " 'Square064.png',\n",
              " 'Square065.png',\n",
              " 'Square057.png',\n",
              " 'Square053.png',\n",
              " 'Square056.png',\n",
              " 'Square059.png',\n",
              " 'Square055.png',\n",
              " 'Square062.png',\n",
              " 'Square058.png',\n",
              " 'Square060.png',\n",
              " 'Square061.png',\n",
              " 'Square054.png',\n",
              " 'Square052.png',\n",
              " 'Square050.png',\n",
              " 'Square047.png',\n",
              " 'Square048.png',\n",
              " 'Square051.png',\n",
              " 'Square049.png',\n",
              " 'Square038.png',\n",
              " 'Square041.png',\n",
              " 'Square044.png',\n",
              " 'Square042.png',\n",
              " 'Square045.png',\n",
              " 'Square040.png',\n",
              " 'Square046.png',\n",
              " 'Square043.png',\n",
              " 'Square039.png',\n",
              " 'Square036.png',\n",
              " 'Square035.png',\n",
              " 'Square031.png',\n",
              " 'Square032.png',\n",
              " 'Square037.png',\n",
              " 'Square034.png',\n",
              " 'Square033.png',\n",
              " 'Square027.png',\n",
              " 'Square024.png',\n",
              " 'Square025.png',\n",
              " 'Square028.png',\n",
              " 'Square026.png',\n",
              " 'Square023.png',\n",
              " 'Square022.png',\n",
              " 'Square030.png',\n",
              " 'Square029.png',\n",
              " 'Square021.png',\n",
              " 'Square015.png',\n",
              " 'Square016.png',\n",
              " 'Square017.png',\n",
              " 'Square020.png',\n",
              " 'Square019.png',\n",
              " 'Square018.png',\n",
              " 'Square014.png',\n",
              " 'Square012.png',\n",
              " 'Square011.png',\n",
              " 'Square010.png',\n",
              " 'Square007.png',\n",
              " 'Square009.png',\n",
              " 'Square008.png',\n",
              " 'Square013.png',\n",
              " 'Square005.png',\n",
              " 'Square003.png',\n",
              " 'Square006.png',\n",
              " 'Square002.png',\n",
              " 'Square004.png',\n",
              " 'Square001.png',\n",
              " 'Triangle080.png',\n",
              " 'Triangle079.png',\n",
              " 'Triangle072.png',\n",
              " 'Triangle070.png',\n",
              " 'Triangle076.png',\n",
              " 'Triangle073.png',\n",
              " 'Triangle075.png',\n",
              " 'Triangle078.png',\n",
              " 'Triangle074.png',\n",
              " 'Triangle077.png',\n",
              " 'Triangle071.png',\n",
              " 'Triangle069.png',\n",
              " 'Triangle066.png',\n",
              " 'Triangle064.png',\n",
              " 'Triangle065.png',\n",
              " 'Triangle063.png',\n",
              " 'Triangle068.png',\n",
              " 'Triangle067.png',\n",
              " 'Triangle057.png',\n",
              " 'Triangle060.png',\n",
              " 'Triangle056.png',\n",
              " 'Triangle059.png',\n",
              " 'Triangle054.png',\n",
              " 'Triangle058.png',\n",
              " 'Triangle062.png',\n",
              " 'Triangle055.png',\n",
              " 'Triangle061.png',\n",
              " 'Triangle052.png',\n",
              " 'Triangle044.png',\n",
              " 'Triangle047.png',\n",
              " 'Triangle053.png',\n",
              " 'Triangle051.png',\n",
              " 'Triangle048.png',\n",
              " 'Triangle049.png',\n",
              " 'Triangle046.png',\n",
              " 'Triangle050.png',\n",
              " 'Triangle045.png',\n",
              " 'Triangle041.png',\n",
              " 'Triangle043.png',\n",
              " 'Triangle040.png',\n",
              " 'Triangle042.png',\n",
              " 'Triangle032.png',\n",
              " 'Triangle036.png',\n",
              " 'Triangle033.png',\n",
              " 'Triangle039.png',\n",
              " 'Triangle030.png',\n",
              " 'Triangle035.png',\n",
              " 'Triangle038.png',\n",
              " 'Triangle037.png',\n",
              " 'Triangle031.png',\n",
              " 'Triangle034.png',\n",
              " 'Triangle025.png',\n",
              " 'Triangle029.png',\n",
              " 'Triangle028.png',\n",
              " 'Triangle026.png',\n",
              " 'Triangle027.png',\n",
              " 'Triangle017.png',\n",
              " 'Triangle023.png',\n",
              " 'Triangle016.png',\n",
              " 'Triangle018.png',\n",
              " 'Triangle022.png',\n",
              " 'Triangle020.png',\n",
              " 'Triangle021.png',\n",
              " 'Triangle024.png',\n",
              " 'Triangle019.png',\n",
              " 'Triangle009.png',\n",
              " 'Triangle010.png',\n",
              " 'Triangle015.png',\n",
              " 'Triangle013.png',\n",
              " 'Triangle012.png',\n",
              " 'Triangle014.png',\n",
              " 'Triangle011.png',\n",
              " 'Triangle005.png',\n",
              " 'Triangle008.png',\n",
              " 'Triangle004.png',\n",
              " 'Triangle001.png',\n",
              " 'Triangle007.png',\n",
              " 'Triangle006.png',\n",
              " 'Triangle003.png',\n",
              " 'Triangle002.png',\n",
              " 'circle080.png',\n",
              " 'circle078.png',\n",
              " 'circle079.png',\n",
              " 'circle077.png',\n",
              " 'circle074.png',\n",
              " 'circle072.png',\n",
              " 'circle075.png',\n",
              " 'circle070.png',\n",
              " 'circle071.png',\n",
              " 'circle073.png',\n",
              " 'circle076.png',\n",
              " 'circle064.png',\n",
              " 'circle069.png',\n",
              " 'circle067.png',\n",
              " 'circle066.png',\n",
              " 'circle065.png',\n",
              " 'circle068.png',\n",
              " 'circle063.png',\n",
              " 'circle061.png',\n",
              " 'circle062.png']"
            ]
          },
          "metadata": {
            "tags": []
          },
          "execution_count": 4
        }
      ]
    },
    {
      "cell_type": "code",
      "metadata": {
        "id": "xjSn-d2a3G1Y"
      },
      "source": [
        "full_names = os.listdir(path)\n",
        "labels = [each.split('0')[0] for each in full_names]\n",
        "file_id = [each.split('0')[1] for each in full_names]"
      ],
      "execution_count": 5,
      "outputs": []
    },
    {
      "cell_type": "code",
      "metadata": {
        "colab": {
          "base_uri": "https://localhost:8080/",
          "height": 269
        },
        "id": "cS0nyh-A3eS-",
        "outputId": "b6ea36fe-3542-4a5d-9bef-c73235b2a1d9"
      },
      "source": [
        "import random\n",
        "import matplotlib.pyplot as plt\n",
        "import matplotlib.image as mpimg\n",
        "%matplotlib inline\n",
        "\n",
        "sample = random.choice(full_names)\n",
        "image = mpimg.imread(path + sample)\n",
        "plt.imshow(image)\n",
        "plt.show()"
      ],
      "execution_count": 8,
      "outputs": [
        {
          "output_type": "display_data",
          "data": {
            "image/png": "[encoded data removed]",
            "text/plain": [
              "<Figure size 432x288 with 1 Axes>"
            ]
          },
          "metadata": {
            "tags": [],
            "needs_background": "light"
          }
        }
      ]
    },
    {
      "cell_type": "code",
      "metadata": {
        "colab": {
          "base_uri": "https://localhost:8080/",
          "height": 307
        },
        "id": "hrQ5x31N4O4S",
        "outputId": "d3cd1b81-2f57-414a-ade5-efa739ca3f15"
      },
      "source": [
        "from skimage.transform import resize\n",
        "resized = resize(image, (128, 128, 3))\n",
        "\n",
        "fig, axes = plt.subplots(1, 2, figsize=(8, 4))\n",
        "ax = axes.ravel()\n",
        "\n",
        "ax[0].imshow(image, cmap=plt.cm.gray)\n",
        "ax[0].set_title(\"image\")\n",
        "ax[1].imshow(resized, cmap=plt.cm.gray)\n",
        "ax[1].set_title(\"Resized\")\n",
        "\n",
        "fig.tight_layout()\n",
        "plt.show()"
      ],
      "execution_count": 13,
      "outputs": [
        {
          "output_type": "display_data",
          "data": {
            "image/png": "[encoded data removed]",
            "text/plain": [
              "<Figure size 576x288 with 2 Axes>"
            ]
          },
          "metadata": {
            "tags": [],
            "needs_background": "light"
          }
        }
      ]
    },
    {
      "cell_type": "code",
      "metadata": {
        "colab": {
          "base_uri": "https://localhost:8080/",
          "height": 66,
          "referenced_widgets": [
            "b3af605082bb4a5bb297459d840aee74",
            "595d1019ad744c0584b35cf1781ec422",
            "d219a3d54d8e4762ae2b54a1ec26b151",
            "00c4803c16a64db6a6af6a0721009489",
            "a92c021323d74fe59fb7294424aceb19",
            "02599552a1c94db79a69829b26c58db8",
            "681ff51a4a9648e5a1b5a5e409bfed20",
            "1bbff24b89004a43b5503e022ba177d4"
          ]
        },
        "id": "8IwEFtUX5K6E",
        "outputId": "88abcc8b-8243-49de-b0da-0280020f68d0"
      },
      "source": [
        "from tqdm.notebook import tqdm\n",
        "from skimage.color import rgb2gray\n",
        "import numpy as np\n",
        "\n",
        "images = []\n",
        "bar_total = tqdm(full_names)\n",
        "for file in bar_total:\n",
        "  image = mpimg.imread(path + file)\n",
        "  images.append(resize(image, (128, 128, 3)))\n",
        "\n",
        "images = np.array(images)"
      ],
      "execution_count": 15,
      "outputs": [
        {
          "output_type": "display_data",
          "data": {
            "application/vnd.jupyter.widget-view+json": {
              "model_id": "b3af605082bb4a5bb297459d840aee74",
              "version_minor": 0,
              "version_major": 2
            },
            "text/plain": [
              "HBox(children=(FloatProgress(value=0.0, max=240.0), HTML(value='')))"
            ]
          },
          "metadata": {
            "tags": []
          }
        },
        {
          "output_type": "stream",
          "text": [
            "\n"
          ],
          "name": "stdout"
        }
      ]
    },
    {
      "cell_type": "code",
      "metadata": {
        "colab": {
          "base_uri": "https://localhost:8080/"
        },
        "id": "7eOsZ7LV8IPo",
        "outputId": "3a6b3a95-17b7-4f89-f27e-8430f6353107"
      },
      "source": [
        "images.shape, labels[:3]"
      ],
      "execution_count": 16,
      "outputs": [
        {
          "output_type": "execute_result",
          "data": {
            "text/plain": [
              "((240, 128, 128, 3), ['circle', 'circle', 'circle'])"
            ]
          },
          "metadata": {
            "tags": []
          },
          "execution_count": 16
        }
      ]
    },
    {
      "cell_type": "code",
      "metadata": {
        "colab": {
          "base_uri": "https://localhost:8080/"
        },
        "id": "JyuiPggN8R2W",
        "outputId": "cf16c99b-1afa-4d82-9e52-82dd3a5b5fcf"
      },
      "source": [
        "images[:3]"
      ],
      "execution_count": 17,
      "outputs": [
        {
          "output_type": "execute_result",
          "data": {
            "text/plain": [
              "array([[[[1., 1., 1.],\n",
              "         [1., 1., 1.],\n",
              "         [1., 1., 1.],\n",
              "         ...,\n",
              "         [1., 1., 1.],\n",
              "         [1., 1., 1.],\n",
              "         [1., 1., 1.]],\n",
              "\n",
              "        [[1., 1., 1.],\n",
              "         [1., 1., 1.],\n",
              "         [1., 1., 1.],\n",
              "         ...,\n",
              "         [1., 1., 1.],\n",
              "         [1., 1., 1.],\n",
              "         [1., 1., 1.]],\n",
              "\n",
              "        [[1., 1., 1.],\n",
              "         [1., 1., 1.],\n",
              "         [1., 1., 1.],\n",
              "         ...,\n",
              "         [1., 1., 1.],\n",
              "         [1., 1., 1.],\n",
              "         [1., 1., 1.]],\n",
              "\n",
              "        ...,\n",
              "\n",
              "        [[1., 1., 1.],\n",
              "         [1., 1., 1.],\n",
              "         [1., 1., 1.],\n",
              "         ...,\n",
              "         [1., 1., 1.],\n",
              "         [1., 1., 1.],\n",
              "         [1., 1., 1.]],\n",
              "\n",
              "        [[1., 1., 1.],\n",
              "         [1., 1., 1.],\n",
              "         [1., 1., 1.],\n",
              "         ...,\n",
              "         [1., 1., 1.],\n",
              "         [1., 1., 1.],\n",
              "         [1., 1., 1.]],\n",
              "\n",
              "        [[1., 1., 1.],\n",
              "         [1., 1., 1.],\n",
              "         [1., 1., 1.],\n",
              "         ...,\n",
              "         [1., 1., 1.],\n",
              "         [1., 1., 1.],\n",
              "         [1., 1., 1.]]],\n",
              "\n",
              "\n",
              "       [[[1., 1., 1.],\n",
              "         [1., 1., 1.],\n",
              "         [1., 1., 1.],\n",
              "         ...,\n",
              "         [1., 1., 1.],\n",
              "         [1., 1., 1.],\n",
              "         [1., 1., 1.]],\n",
              "\n",
              "        [[1., 1., 1.],\n",
              "         [1., 1., 1.],\n",
              "         [1., 1., 1.],\n",
              "         ...,\n",
              "         [1., 1., 1.],\n",
              "         [1., 1., 1.],\n",
              "         [1., 1., 1.]],\n",
              "\n",
              "        [[1., 1., 1.],\n",
              "         [1., 1., 1.],\n",
              "         [1., 1., 1.],\n",
              "         ...,\n",
              "         [1., 1., 1.],\n",
              "         [1., 1., 1.],\n",
              "         [1., 1., 1.]],\n",
              "\n",
              "        ...,\n",
              "\n",
              "        [[1., 1., 1.],\n",
              "         [1., 1., 1.],\n",
              "         [1., 1., 1.],\n",
              "         ...,\n",
              "         [1., 1., 1.],\n",
              "         [1., 1., 1.],\n",
              "         [1., 1., 1.]],\n",
              "\n",
              "        [[1., 1., 1.],\n",
              "         [1., 1., 1.],\n",
              "         [1., 1., 1.],\n",
              "         ...,\n",
              "         [1., 1., 1.],\n",
              "         [1., 1., 1.],\n",
              "         [1., 1., 1.]],\n",
              "\n",
              "        [[1., 1., 1.],\n",
              "         [1., 1., 1.],\n",
              "         [1., 1., 1.],\n",
              "         ...,\n",
              "         [1., 1., 1.],\n",
              "         [1., 1., 1.],\n",
              "         [1., 1., 1.]]],\n",
              "\n",
              "\n",
              "       [[[1., 1., 1.],\n",
              "         [1., 1., 1.],\n",
              "         [1., 1., 1.],\n",
              "         ...,\n",
              "         [1., 1., 1.],\n",
              "         [1., 1., 1.],\n",
              "         [1., 1., 1.]],\n",
              "\n",
              "        [[1., 1., 1.],\n",
              "         [1., 1., 1.],\n",
              "         [1., 1., 1.],\n",
              "         ...,\n",
              "         [1., 1., 1.],\n",
              "         [1., 1., 1.],\n",
              "         [1., 1., 1.]],\n",
              "\n",
              "        [[1., 1., 1.],\n",
              "         [1., 1., 1.],\n",
              "         [1., 1., 1.],\n",
              "         ...,\n",
              "         [1., 1., 1.],\n",
              "         [1., 1., 1.],\n",
              "         [1., 1., 1.]],\n",
              "\n",
              "        ...,\n",
              "\n",
              "        [[1., 1., 1.],\n",
              "         [1., 1., 1.],\n",
              "         [1., 1., 1.],\n",
              "         ...,\n",
              "         [1., 1., 1.],\n",
              "         [1., 1., 1.],\n",
              "         [1., 1., 1.]],\n",
              "\n",
              "        [[1., 1., 1.],\n",
              "         [1., 1., 1.],\n",
              "         [1., 1., 1.],\n",
              "         ...,\n",
              "         [1., 1., 1.],\n",
              "         [1., 1., 1.],\n",
              "         [1., 1., 1.]],\n",
              "\n",
              "        [[1., 1., 1.],\n",
              "         [1., 1., 1.],\n",
              "         [1., 1., 1.],\n",
              "         ...,\n",
              "         [1., 1., 1.],\n",
              "         [1., 1., 1.],\n",
              "         [1., 1., 1.]]]], dtype=float32)"
            ]
          },
          "metadata": {
            "tags": []
          },
          "execution_count": 17
        }
      ]
    },
    {
      "cell_type": "code",
      "metadata": {
        "colab": {
          "base_uri": "https://localhost:8080/"
        },
        "id": "yqgvOQRL8SGd",
        "outputId": "b8c5a6e8-d2fb-41e3-bb2c-2b038521dee2"
      },
      "source": [
        "from sklearn.preprocessing import LabelEncoder\n",
        "\n",
        "encoder = LabelEncoder()\n",
        "encoder.fit(labels)\n",
        "labels_encoded = encoder.transform(labels)\n",
        "labels_encoded[:3], encoder.classes_"
      ],
      "execution_count": 18,
      "outputs": [
        {
          "output_type": "execute_result",
          "data": {
            "text/plain": [
              "(array([2, 2, 2]), array(['Square', 'Triangle', 'circle'], dtype='<U8'))"
            ]
          },
          "metadata": {
            "tags": []
          },
          "execution_count": 18
        }
      ]
    },
    {
      "cell_type": "code",
      "metadata": {
        "colab": {
          "base_uri": "https://localhost:8080/"
        },
        "id": "tIjTGOCk8SO-",
        "outputId": "e3370ec5-e122-4b23-adce-3bd87e9ea4e3"
      },
      "source": [
        "from sklearn.model_selection import train_test_split\n",
        "\n",
        "X_train, X_test, y_train, y_test = train_test_split(images, labels_encoded,\\\n",
        "                                                    test_size=0.2, random_state=6,\\\n",
        "                                                    stratify=labels_encoded)\n",
        "X_train.shape, X_test.shape"
      ],
      "execution_count": 19,
      "outputs": [
        {
          "output_type": "execute_result",
          "data": {
            "text/plain": [
              "((192, 128, 128, 3), (48, 128, 128, 3))"
            ]
          },
          "metadata": {
            "tags": []
          },
          "execution_count": 19
        }
      ]
    },
    {
      "cell_type": "code",
      "metadata": {
        "colab": {
          "base_uri": "https://localhost:8080/",
          "height": 656
        },
        "id": "hFjKn7MF8STK",
        "outputId": "52fec3ae-a70a-4ae0-ee92-315d287b6684"
      },
      "source": [
        "samples = random.choices(population=range(0, 192), k=8)\n",
        "\n",
        "plt.figure(figsize=(14, 12))\n",
        "for idx, n in enumerate(samples):\n",
        "  plt.subplot(2, 4, idx+1)\n",
        "  plt.imshow(X_train[n], cmap='Greys',\n",
        "             interpolation='nearest')\n",
        "  plt.title(y_train[n])\n",
        "\n",
        "plt.tight_layout()\n",
        "plt.show()"
      ],
      "execution_count": 21,
      "outputs": [
        {
          "output_type": "display_data",
          "data": {
            "image/png": "[encoded data removed]",
            "text/plain": [
              "<Figure size 1008x864 with 8 Axes>"
            ]
          },
          "metadata": {
            "tags": [],
            "needs_background": "light"
          }
        }
      ]
    },
    {
      "cell_type": "code",
      "metadata": {
        "colab": {
          "base_uri": "https://localhost:8080/"
        },
        "id": "2ghdB7GH8SWH",
        "outputId": "4db8cfb7-b00f-4634-91be-5ff587ab3d7f"
      },
      "source": [
        "from tensorflow.keras import layers, models\n",
        "\n",
        "model = models.Sequential([\n",
        "                           layers.Conv2D(32, (3, 3), activation='relu', input_shape=(128, 128, 3)),\n",
        "                           layers.MaxPooling2D(pool_size=(2, 2), strides=(2, 2)),\n",
        "                           layers.Dropout(0.25),\n",
        "\n",
        "                           layers.Conv2D(64, (3, 3), activation='relu', padding='same'),\n",
        "                           layers.MaxPooling2D(pool_size=(2, 2)),\n",
        "                           layers.Dropout(0.25),\n",
        "\n",
        "                           layers.Conv2D(64, (3, 3), activation='relu', padding='same'),\n",
        "                           layers.MaxPooling2D(pool_size=(2, 2)),\n",
        "                           layers.Dropout(0.25),\n",
        "\n",
        "                           layers.Flatten(),\n",
        "                           layers.Dense(512, activation='relu'),\n",
        "                           layers.Dropout(0.25),\n",
        "                           layers.Dense(2, activation='softmax')                          \n",
        "\n",
        "])\n",
        "\n",
        "model.summary()"
      ],
      "execution_count": 22,
      "outputs": [
        {
          "output_type": "stream",
          "text": [
            "Model: \"sequential\"\n",
            "_________________________________________________________________\n",
            "Layer (type)                 Output Shape              Param #   \n",
            "=================================================================\n",
            "conv2d (Conv2D)              (None, 126, 126, 32)      896       \n",
            "_________________________________________________________________\n",
            "max_pooling2d (MaxPooling2D) (None, 63, 63, 32)        0         \n",
            "_________________________________________________________________\n",
            "dropout (Dropout)            (None, 63, 63, 32)        0         \n",
            "_________________________________________________________________\n",
            "conv2d_1 (Conv2D)            (None, 63, 63, 64)        18496     \n",
            "_________________________________________________________________\n",
            "max_pooling2d_1 (MaxPooling2 (None, 31, 31, 64)        0         \n",
            "_________________________________________________________________\n",
            "dropout_1 (Dropout)          (None, 31, 31, 64)        0         \n",
            "_________________________________________________________________\n",
            "conv2d_2 (Conv2D)            (None, 31, 31, 64)        36928     \n",
            "_________________________________________________________________\n",
            "max_pooling2d_2 (MaxPooling2 (None, 15, 15, 64)        0         \n",
            "_________________________________________________________________\n",
            "dropout_2 (Dropout)          (None, 15, 15, 64)        0         \n",
            "_________________________________________________________________\n",
            "flatten (Flatten)            (None, 14400)             0         \n",
            "_________________________________________________________________\n",
            "dense (Dense)                (None, 512)               7373312   \n",
            "_________________________________________________________________\n",
            "dropout_3 (Dropout)          (None, 512)               0         \n",
            "_________________________________________________________________\n",
            "dense_1 (Dense)              (None, 2)                 1026      \n",
            "=================================================================\n",
            "Total params: 7,430,658\n",
            "Trainable params: 7,430,658\n",
            "Non-trainable params: 0\n",
            "_________________________________________________________________\n"
          ],
          "name": "stdout"
        }
      ]
    },
    {
      "cell_type": "code",
      "metadata": {
        "id": "SfvL-Pzd8VpS"
      },
      "source": [
        "model.compile(optimizer='adam',\n",
        "              loss='sparse_categorical_crossentropy',\n",
        "              metrics=['accuracy'])"
      ],
      "execution_count": 24,
      "outputs": []
    },
    {
      "cell_type": "code",
      "metadata": {
        "colab": {
          "base_uri": "https://localhost:8080/"
        },
        "id": "U4DLcn-E8WtR",
        "outputId": "53084d81-1b1b-4e52-c08d-f90ad1275e11"
      },
      "source": [
        "import time\n",
        "\n",
        "start_time = time.time()\n",
        "hist = model.fit(X_train.reshape(192, 128, 128, 3), y_train,\n",
        "                 epochs=5, verbose=1,\n",
        "                 validation_data = (X_test.reshape(48, 128, 128, 3), y_test))\n",
        "print(\"fit time: \", time.time() - start_time)"
      ],
      "execution_count": 31,
      "outputs": [
        {
          "output_type": "stream",
          "text": [
            "Epoch 1/5\n",
            "6/6 [==============================] - 0s 36ms/step - loss: nan - accuracy: 0.3333 - val_loss: nan - val_accuracy: 0.3333\n",
            "Epoch 2/5\n",
            "6/6 [==============================] - 0s 28ms/step - loss: nan - accuracy: 0.3333 - val_loss: nan - val_accuracy: 0.3333\n",
            "Epoch 3/5\n",
            "6/6 [==============================] - 0s 26ms/step - loss: nan - accuracy: 0.3333 - val_loss: nan - val_accuracy: 0.3333\n",
            "Epoch 4/5\n",
            "6/6 [==============================] - 0s 25ms/step - loss: nan - accuracy: 0.3333 - val_loss: nan - val_accuracy: 0.3333\n",
            "Epoch 5/5\n",
            "6/6 [==============================] - 0s 24ms/step - loss: nan - accuracy: 0.3333 - val_loss: nan - val_accuracy: 0.3333\n",
            "fit time:  0.8467574119567871\n"
          ],
          "name": "stdout"
        }
      ]
    },
    {
      "cell_type": "code",
      "metadata": {
        "colab": {
          "base_uri": "https://localhost:8080/",
          "height": 483
        },
        "id": "qEjFk57e8W-a",
        "outputId": "28d20a18-b009-44dc-a55b-14c581b903ba"
      },
      "source": [
        "plot_target = ['loss', 'val_loss', 'accuracy', 'val_accuracy']\n",
        "plt.figure(figsize=(12, 8))\n",
        "\n",
        "for each in plot_target:\n",
        "  plt.plot(hist.history[each], label=each)\n",
        "\n",
        "plt.legend()\n",
        "plt.grid()\n",
        "plt.show()"
      ],
      "execution_count": 29,
      "outputs": [
        {
          "output_type": "display_data",
          "data": {
            "image/png": "[encoded data removed]",
            "text/plain": [
              "<Figure size 864x576 with 1 Axes>"
            ]
          },
          "metadata": {
            "tags": [],
            "needs_background": "light"
          }
        }
      ]
    },
    {
      "cell_type": "code",
      "metadata": {
        "id": "paffky4T8XR2"
      },
      "source": [
        ""
      ],
      "execution_count": null,
      "outputs": []
    }
  ]
}