{
  "nbformat": 4,
  "nbformat_minor": 0,
  "metadata": {
    "colab": {
      "name": "OX.ipynb",
      "provenance": [],
      "collapsed_sections": [],
      "mount_file_id": "1Yg_TXZ4Qsqjoz3RljferYuNmRTznfoSb",
      "authorship_tag": "ABX9TyPgEIBJq7t67Hsu0tSWHbg1",
      "include_colab_link": true
    },
    "kernelspec": {
      "name": "python3",
      "display_name": "Python 3"
    },
    "accelerator": "GPU",
    "widgets": {
      "application/vnd.jupyter.widget-state+json": {
        "bb08c24eacec4559b9fb78c41813dc85": {
          "model_module": "@jupyter-widgets/controls",
          "model_name": "HBoxModel",
          "state": {
            "_view_name": "HBoxView",
            "_dom_classes": [],
            "_model_name": "HBoxModel",
            "_view_module": "@jupyter-widgets/controls",
            "_model_module_version": "1.5.0",
            "_view_count": null,
            "_view_module_version": "1.5.0",
            "box_style": "",
            "layout": "IPY_MODEL_adfb8c20b3dc409298ce2afdb40b5ff3",
            "_model_module": "@jupyter-widgets/controls",
            "children": [
              "IPY_MODEL_a455b2862d224900ad69126dfb9f3bfb",
              "IPY_MODEL_fa56b75bbc3b4116a05c7814704287f9"
            ]
          }
        },
        "adfb8c20b3dc409298ce2afdb40b5ff3": {
          "model_module": "@jupyter-widgets/base",
          "model_name": "LayoutModel",
          "state": {
            "_view_name": "LayoutView",
            "grid_template_rows": null,
            "right": null,
            "justify_content": null,
            "_view_module": "@jupyter-widgets/base",
            "overflow": null,
            "_model_module_version": "1.2.0",
            "_view_count": null,
            "flex_flow": null,
            "width": null,
            "min_width": null,
            "border": null,
            "align_items": null,
            "bottom": null,
            "_model_module": "@jupyter-widgets/base",
            "top": null,
            "grid_column": null,
            "overflow_y": null,
            "overflow_x": null,
            "grid_auto_flow": null,
            "grid_area": null,
            "grid_template_columns": null,
            "flex": null,
            "_model_name": "LayoutModel",
            "justify_items": null,
            "grid_row": null,
            "max_height": null,
            "align_content": null,
            "visibility": null,
            "align_self": null,
            "height": null,
            "min_height": null,
            "padding": null,
            "grid_auto_rows": null,
            "grid_gap": null,
            "max_width": null,
            "order": null,
            "_view_module_version": "1.2.0",
            "grid_template_areas": null,
            "object_position": null,
            "object_fit": null,
            "grid_auto_columns": null,
            "margin": null,
            "display": null,
            "left": null
          }
        },
        "a455b2862d224900ad69126dfb9f3bfb": {
          "model_module": "@jupyter-widgets/controls",
          "model_name": "FloatProgressModel",
          "state": {
            "_view_name": "ProgressView",
            "style": "IPY_MODEL_51113e0e23a24deb99bd61faa9ddd794",
            "_dom_classes": [],
            "description": "100%",
            "_model_name": "FloatProgressModel",
            "bar_style": "success",
            "max": 167,
            "_view_module": "@jupyter-widgets/controls",
            "_model_module_version": "1.5.0",
            "value": 167,
            "_view_count": null,
            "_view_module_version": "1.5.0",
            "orientation": "horizontal",
            "min": 0,
            "description_tooltip": null,
            "_model_module": "@jupyter-widgets/controls",
            "layout": "IPY_MODEL_fa9c054dc9b84d7cb2ebf630782b19f9"
          }
        },
        "fa56b75bbc3b4116a05c7814704287f9": {
          "model_module": "@jupyter-widgets/controls",
          "model_name": "HTMLModel",
          "state": {
            "_view_name": "HTMLView",
            "style": "IPY_MODEL_4aaee8b976404751840f5f3f082b7534",
            "_dom_classes": [],
            "description": "",
            "_model_name": "HTMLModel",
            "placeholder": "​",
            "_view_module": "@jupyter-widgets/controls",
            "_model_module_version": "1.5.0",
            "value": " 167/167 [01:45&lt;00:00,  1.59it/s]",
            "_view_count": null,
            "_view_module_version": "1.5.0",
            "description_tooltip": null,
            "_model_module": "@jupyter-widgets/controls",
            "layout": "IPY_MODEL_e4b4c8df08154756ac220089bb09f04d"
          }
        },
        "51113e0e23a24deb99bd61faa9ddd794": {
          "model_module": "@jupyter-widgets/controls",
          "model_name": "ProgressStyleModel",
          "state": {
            "_view_name": "StyleView",
            "_model_name": "ProgressStyleModel",
            "description_width": "initial",
            "_view_module": "@jupyter-widgets/base",
            "_model_module_version": "1.5.0",
            "_view_count": null,
            "_view_module_version": "1.2.0",
            "bar_color": null,
            "_model_module": "@jupyter-widgets/controls"
          }
        },
        "fa9c054dc9b84d7cb2ebf630782b19f9": {
          "model_module": "@jupyter-widgets/base",
          "model_name": "LayoutModel",
          "state": {
            "_view_name": "LayoutView",
            "grid_template_rows": null,
            "right": null,
            "justify_content": null,
            "_view_module": "@jupyter-widgets/base",
            "overflow": null,
            "_model_module_version": "1.2.0",
            "_view_count": null,
            "flex_flow": null,
            "width": null,
            "min_width": null,
            "border": null,
            "align_items": null,
            "bottom": null,
            "_model_module": "@jupyter-widgets/base",
            "top": null,
            "grid_column": null,
            "overflow_y": null,
            "overflow_x": null,
            "grid_auto_flow": null,
            "grid_area": null,
            "grid_template_columns": null,
            "flex": null,
            "_model_name": "LayoutModel",
            "justify_items": null,
            "grid_row": null,
            "max_height": null,
            "align_content": null,
            "visibility": null,
            "align_self": null,
            "height": null,
            "min_height": null,
            "padding": null,
            "grid_auto_rows": null,
            "grid_gap": null,
            "max_width": null,
            "order": null,
            "_view_module_version": "1.2.0",
            "grid_template_areas": null,
            "object_position": null,
            "object_fit": null,
            "grid_auto_columns": null,
            "margin": null,
            "display": null,
            "left": null
          }
        },
        "4aaee8b976404751840f5f3f082b7534": {
          "model_module": "@jupyter-widgets/controls",
          "model_name": "DescriptionStyleModel",
          "state": {
            "_view_name": "StyleView",
            "_model_name": "DescriptionStyleModel",
            "description_width": "",
            "_view_module": "@jupyter-widgets/base",
            "_model_module_version": "1.5.0",
            "_view_count": null,
            "_view_module_version": "1.2.0",
            "_model_module": "@jupyter-widgets/controls"
          }
        },
        "e4b4c8df08154756ac220089bb09f04d": {
          "model_module": "@jupyter-widgets/base",
          "model_name": "LayoutModel",
          "state": {
            "_view_name": "LayoutView",
            "grid_template_rows": null,
            "right": null,
            "justify_content": null,
            "_view_module": "@jupyter-widgets/base",
            "overflow": null,
            "_model_module_version": "1.2.0",
            "_view_count": null,
            "flex_flow": null,
            "width": null,
            "min_width": null,
            "border": null,
            "align_items": null,
            "bottom": null,
            "_model_module": "@jupyter-widgets/base",
            "top": null,
            "grid_column": null,
            "overflow_y": null,
            "overflow_x": null,
            "grid_auto_flow": null,
            "grid_area": null,
            "grid_template_columns": null,
            "flex": null,
            "_model_name": "LayoutModel",
            "justify_items": null,
            "grid_row": null,
            "max_height": null,
            "align_content": null,
            "visibility": null,
            "align_self": null,
            "height": null,
            "min_height": null,
            "padding": null,
            "grid_auto_rows": null,
            "grid_gap": null,
            "max_width": null,
            "order": null,
            "_view_module_version": "1.2.0",
            "grid_template_areas": null,
            "object_position": null,
            "object_fit": null,
            "grid_auto_columns": null,
            "margin": null,
            "display": null,
            "left": null
          }
        },
        "947b5224bd8c4c68a79cc9c36def8b4f": {
          "model_module": "@jupyter-widgets/controls",
          "model_name": "HBoxModel",
          "state": {
            "_view_name": "HBoxView",
            "_dom_classes": [],
            "_model_name": "HBoxModel",
            "_view_module": "@jupyter-widgets/controls",
            "_model_module_version": "1.5.0",
            "_view_count": null,
            "_view_module_version": "1.5.0",
            "box_style": "",
            "layout": "IPY_MODEL_c1c6cb5447954c51a0c68e4d846d2847",
            "_model_module": "@jupyter-widgets/controls",
            "children": [
              "IPY_MODEL_01185ff2eee745aeb0fa4bb2f3db0553",
              "IPY_MODEL_5d2aea90f6644c7893379e5151280c99"
            ]
          }
        },
        "c1c6cb5447954c51a0c68e4d846d2847": {
          "model_module": "@jupyter-widgets/base",
          "model_name": "LayoutModel",
          "state": {
            "_view_name": "LayoutView",
            "grid_template_rows": null,
            "right": null,
            "justify_content": null,
            "_view_module": "@jupyter-widgets/base",
            "overflow": null,
            "_model_module_version": "1.2.0",
            "_view_count": null,
            "flex_flow": null,
            "width": null,
            "min_width": null,
            "border": null,
            "align_items": null,
            "bottom": null,
            "_model_module": "@jupyter-widgets/base",
            "top": null,
            "grid_column": null,
            "overflow_y": null,
            "overflow_x": null,
            "grid_auto_flow": null,
            "grid_area": null,
            "grid_template_columns": null,
            "flex": null,
            "_model_name": "LayoutModel",
            "justify_items": null,
            "grid_row": null,
            "max_height": null,
            "align_content": null,
            "visibility": null,
            "align_self": null,
            "height": null,
            "min_height": null,
            "padding": null,
            "grid_auto_rows": null,
            "grid_gap": null,
            "max_width": null,
            "order": null,
            "_view_module_version": "1.2.0",
            "grid_template_areas": null,
            "object_position": null,
            "object_fit": null,
            "grid_auto_columns": null,
            "margin": null,
            "display": null,
            "left": null
          }
        },
        "01185ff2eee745aeb0fa4bb2f3db0553": {
          "model_module": "@jupyter-widgets/controls",
          "model_name": "FloatProgressModel",
          "state": {
            "_view_name": "ProgressView",
            "style": "IPY_MODEL_31ee937cf6ad4d1f9289aad9ac76ce7f",
            "_dom_classes": [],
            "description": "100%",
            "_model_name": "FloatProgressModel",
            "bar_style": "success",
            "max": 114,
            "_view_module": "@jupyter-widgets/controls",
            "_model_module_version": "1.5.0",
            "value": 114,
            "_view_count": null,
            "_view_module_version": "1.5.0",
            "orientation": "horizontal",
            "min": 0,
            "description_tooltip": null,
            "_model_module": "@jupyter-widgets/controls",
            "layout": "IPY_MODEL_7740604605054dc9bac6581413389518"
          }
        },
        "5d2aea90f6644c7893379e5151280c99": {
          "model_module": "@jupyter-widgets/controls",
          "model_name": "HTMLModel",
          "state": {
            "_view_name": "HTMLView",
            "style": "IPY_MODEL_05bb601e0d2347b7b834a843bf2422b9",
            "_dom_classes": [],
            "description": "",
            "_model_name": "HTMLModel",
            "placeholder": "​",
            "_view_module": "@jupyter-widgets/controls",
            "_model_module_version": "1.5.0",
            "value": " 114/114 [02:26&lt;00:00,  1.29s/it]",
            "_view_count": null,
            "_view_module_version": "1.5.0",
            "description_tooltip": null,
            "_model_module": "@jupyter-widgets/controls",
            "layout": "IPY_MODEL_d63daf74943c475e8b0c5352ca5db106"
          }
        },
        "31ee937cf6ad4d1f9289aad9ac76ce7f": {
          "model_module": "@jupyter-widgets/controls",
          "model_name": "ProgressStyleModel",
          "state": {
            "_view_name": "StyleView",
            "_model_name": "ProgressStyleModel",
            "description_width": "initial",
            "_view_module": "@jupyter-widgets/base",
            "_model_module_version": "1.5.0",
            "_view_count": null,
            "_view_module_version": "1.2.0",
            "bar_color": null,
            "_model_module": "@jupyter-widgets/controls"
          }
        },
        "7740604605054dc9bac6581413389518": {
          "model_module": "@jupyter-widgets/base",
          "model_name": "LayoutModel",
          "state": {
            "_view_name": "LayoutView",
            "grid_template_rows": null,
            "right": null,
            "justify_content": null,
            "_view_module": "@jupyter-widgets/base",
            "overflow": null,
            "_model_module_version": "1.2.0",
            "_view_count": null,
            "flex_flow": null,
            "width": null,
            "min_width": null,
            "border": null,
            "align_items": null,
            "bottom": null,
            "_model_module": "@jupyter-widgets/base",
            "top": null,
            "grid_column": null,
            "overflow_y": null,
            "overflow_x": null,
            "grid_auto_flow": null,
            "grid_area": null,
            "grid_template_columns": null,
            "flex": null,
            "_model_name": "LayoutModel",
            "justify_items": null,
            "grid_row": null,
            "max_height": null,
            "align_content": null,
            "visibility": null,
            "align_self": null,
            "height": null,
            "min_height": null,
            "padding": null,
            "grid_auto_rows": null,
            "grid_gap": null,
            "max_width": null,
            "order": null,
            "_view_module_version": "1.2.0",
            "grid_template_areas": null,
            "object_position": null,
            "object_fit": null,
            "grid_auto_columns": null,
            "margin": null,
            "display": null,
            "left": null
          }
        },
        "05bb601e0d2347b7b834a843bf2422b9": {
          "model_module": "@jupyter-widgets/controls",
          "model_name": "DescriptionStyleModel",
          "state": {
            "_view_name": "StyleView",
            "_model_name": "DescriptionStyleModel",
            "description_width": "",
            "_view_module": "@jupyter-widgets/base",
            "_model_module_version": "1.5.0",
            "_view_count": null,
            "_view_module_version": "1.2.0",
            "_model_module": "@jupyter-widgets/controls"
          }
        },
        "d63daf74943c475e8b0c5352ca5db106": {
          "model_module": "@jupyter-widgets/base",
          "model_name": "LayoutModel",
          "state": {
            "_view_name": "LayoutView",
            "grid_template_rows": null,
            "right": null,
            "justify_content": null,
            "_view_module": "@jupyter-widgets/base",
            "overflow": null,
            "_model_module_version": "1.2.0",
            "_view_count": null,
            "flex_flow": null,
            "width": null,
            "min_width": null,
            "border": null,
            "align_items": null,
            "bottom": null,
            "_model_module": "@jupyter-widgets/base",
            "top": null,
            "grid_column": null,
            "overflow_y": null,
            "overflow_x": null,
            "grid_auto_flow": null,
            "grid_area": null,
            "grid_template_columns": null,
            "flex": null,
            "_model_name": "LayoutModel",
            "justify_items": null,
            "grid_row": null,
            "max_height": null,
            "align_content": null,
            "visibility": null,
            "align_self": null,
            "height": null,
            "min_height": null,
            "padding": null,
            "grid_auto_rows": null,
            "grid_gap": null,
            "max_width": null,
            "order": null,
            "_view_module_version": "1.2.0",
            "grid_template_areas": null,
            "object_position": null,
            "object_fit": null,
            "grid_auto_columns": null,
            "margin": null,
            "display": null,
            "left": null
          }
        },
        "8525ef79d7ae4a81b6cb1709d232094e": {
          "model_module": "@jupyter-widgets/controls",
          "model_name": "HBoxModel",
          "state": {
            "_view_name": "HBoxView",
            "_dom_classes": [],
            "_model_name": "HBoxModel",
            "_view_module": "@jupyter-widgets/controls",
            "_model_module_version": "1.5.0",
            "_view_count": null,
            "_view_module_version": "1.5.0",
            "box_style": "",
            "layout": "IPY_MODEL_cd1561e147374d30b48b8d53a8ed6641",
            "_model_module": "@jupyter-widgets/controls",
            "children": [
              "IPY_MODEL_744085c8498d445b82a03e6c9c71ecd1",
              "IPY_MODEL_b97ca8b99fff4c869eda47b444c92423"
            ]
          }
        },
        "cd1561e147374d30b48b8d53a8ed6641": {
          "model_module": "@jupyter-widgets/base",
          "model_name": "LayoutModel",
          "state": {
            "_view_name": "LayoutView",
            "grid_template_rows": null,
            "right": null,
            "justify_content": null,
            "_view_module": "@jupyter-widgets/base",
            "overflow": null,
            "_model_module_version": "1.2.0",
            "_view_count": null,
            "flex_flow": null,
            "width": null,
            "min_width": null,
            "border": null,
            "align_items": null,
            "bottom": null,
            "_model_module": "@jupyter-widgets/base",
            "top": null,
            "grid_column": null,
            "overflow_y": null,
            "overflow_x": null,
            "grid_auto_flow": null,
            "grid_area": null,
            "grid_template_columns": null,
            "flex": null,
            "_model_name": "LayoutModel",
            "justify_items": null,
            "grid_row": null,
            "max_height": null,
            "align_content": null,
            "visibility": null,
            "align_self": null,
            "height": null,
            "min_height": null,
            "padding": null,
            "grid_auto_rows": null,
            "grid_gap": null,
            "max_width": null,
            "order": null,
            "_view_module_version": "1.2.0",
            "grid_template_areas": null,
            "object_position": null,
            "object_fit": null,
            "grid_auto_columns": null,
            "margin": null,
            "display": null,
            "left": null
          }
        },
        "744085c8498d445b82a03e6c9c71ecd1": {
          "model_module": "@jupyter-widgets/controls",
          "model_name": "FloatProgressModel",
          "state": {
            "_view_name": "ProgressView",
            "style": "IPY_MODEL_24a0b1e7b8b74af5b82f54a0f5f74875",
            "_dom_classes": [],
            "description": "100%",
            "_model_name": "FloatProgressModel",
            "bar_style": "success",
            "max": 30,
            "_view_module": "@jupyter-widgets/controls",
            "_model_module_version": "1.5.0",
            "value": 30,
            "_view_count": null,
            "_view_module_version": "1.5.0",
            "orientation": "horizontal",
            "min": 0,
            "description_tooltip": null,
            "_model_module": "@jupyter-widgets/controls",
            "layout": "IPY_MODEL_10eeb6b2442c46ee87eb41df486c9d0f"
          }
        },
        "b97ca8b99fff4c869eda47b444c92423": {
          "model_module": "@jupyter-widgets/controls",
          "model_name": "HTMLModel",
          "state": {
            "_view_name": "HTMLView",
            "style": "IPY_MODEL_978591e283b24059ab4315b290353d49",
            "_dom_classes": [],
            "description": "",
            "_model_name": "HTMLModel",
            "placeholder": "​",
            "_view_module": "@jupyter-widgets/controls",
            "_model_module_version": "1.5.0",
            "value": " 30/30 [01:03&lt;00:00,  2.13s/it]",
            "_view_count": null,
            "_view_module_version": "1.5.0",
            "description_tooltip": null,
            "_model_module": "@jupyter-widgets/controls",
            "layout": "IPY_MODEL_a1ba39abc9fe4954881a3af3841d3b0e"
          }
        },
        "24a0b1e7b8b74af5b82f54a0f5f74875": {
          "model_module": "@jupyter-widgets/controls",
          "model_name": "ProgressStyleModel",
          "state": {
            "_view_name": "StyleView",
            "_model_name": "ProgressStyleModel",
            "description_width": "initial",
            "_view_module": "@jupyter-widgets/base",
            "_model_module_version": "1.5.0",
            "_view_count": null,
            "_view_module_version": "1.2.0",
            "bar_color": null,
            "_model_module": "@jupyter-widgets/controls"
          }
        },
        "10eeb6b2442c46ee87eb41df486c9d0f": {
          "model_module": "@jupyter-widgets/base",
          "model_name": "LayoutModel",
          "state": {
            "_view_name": "LayoutView",
            "grid_template_rows": null,
            "right": null,
            "justify_content": null,
            "_view_module": "@jupyter-widgets/base",
            "overflow": null,
            "_model_module_version": "1.2.0",
            "_view_count": null,
            "flex_flow": null,
            "width": null,
            "min_width": null,
            "border": null,
            "align_items": null,
            "bottom": null,
            "_model_module": "@jupyter-widgets/base",
            "top": null,
            "grid_column": null,
            "overflow_y": null,
            "overflow_x": null,
            "grid_auto_flow": null,
            "grid_area": null,
            "grid_template_columns": null,
            "flex": null,
            "_model_name": "LayoutModel",
            "justify_items": null,
            "grid_row": null,
            "max_height": null,
            "align_content": null,
            "visibility": null,
            "align_self": null,
            "height": null,
            "min_height": null,
            "padding": null,
            "grid_auto_rows": null,
            "grid_gap": null,
            "max_width": null,
            "order": null,
            "_view_module_version": "1.2.0",
            "grid_template_areas": null,
            "object_position": null,
            "object_fit": null,
            "grid_auto_columns": null,
            "margin": null,
            "display": null,
            "left": null
          }
        },
        "978591e283b24059ab4315b290353d49": {
          "model_module": "@jupyter-widgets/controls",
          "model_name": "DescriptionStyleModel",
          "state": {
            "_view_name": "StyleView",
            "_model_name": "DescriptionStyleModel",
            "description_width": "",
            "_view_module": "@jupyter-widgets/base",
            "_model_module_version": "1.5.0",
            "_view_count": null,
            "_view_module_version": "1.2.0",
            "_model_module": "@jupyter-widgets/controls"
          }
        },
        "a1ba39abc9fe4954881a3af3841d3b0e": {
          "model_module": "@jupyter-widgets/base",
          "model_name": "LayoutModel",
          "state": {
            "_view_name": "LayoutView",
            "grid_template_rows": null,
            "right": null,
            "justify_content": null,
            "_view_module": "@jupyter-widgets/base",
            "overflow": null,
            "_model_module_version": "1.2.0",
            "_view_count": null,
            "flex_flow": null,
            "width": null,
            "min_width": null,
            "border": null,
            "align_items": null,
            "bottom": null,
            "_model_module": "@jupyter-widgets/base",
            "top": null,
            "grid_column": null,
            "overflow_y": null,
            "overflow_x": null,
            "grid_auto_flow": null,
            "grid_area": null,
            "grid_template_columns": null,
            "flex": null,
            "_model_name": "LayoutModel",
            "justify_items": null,
            "grid_row": null,
            "max_height": null,
            "align_content": null,
            "visibility": null,
            "align_self": null,
            "height": null,
            "min_height": null,
            "padding": null,
            "grid_auto_rows": null,
            "grid_gap": null,
            "max_width": null,
            "order": null,
            "_view_module_version": "1.2.0",
            "grid_template_areas": null,
            "object_position": null,
            "object_fit": null,
            "grid_auto_columns": null,
            "margin": null,
            "display": null,
            "left": null
          }
        },
        "0b4b7de17ce04f26b06761b95fa1f994": {
          "model_module": "@jupyter-widgets/controls",
          "model_name": "HBoxModel",
          "state": {
            "_view_name": "HBoxView",
            "_dom_classes": [],
            "_model_name": "HBoxModel",
            "_view_module": "@jupyter-widgets/controls",
            "_model_module_version": "1.5.0",
            "_view_count": null,
            "_view_module_version": "1.5.0",
            "box_style": "",
            "layout": "IPY_MODEL_f5b0b4f53ae346df887441b4f856420f",
            "_model_module": "@jupyter-widgets/controls",
            "children": [
              "IPY_MODEL_01f0d68867cc41019c2a889e24785ccc",
              "IPY_MODEL_ca593af51ade41138c98f08c435faed7"
            ]
          }
        },
        "f5b0b4f53ae346df887441b4f856420f": {
          "model_module": "@jupyter-widgets/base",
          "model_name": "LayoutModel",
          "state": {
            "_view_name": "LayoutView",
            "grid_template_rows": null,
            "right": null,
            "justify_content": null,
            "_view_module": "@jupyter-widgets/base",
            "overflow": null,
            "_model_module_version": "1.2.0",
            "_view_count": null,
            "flex_flow": null,
            "width": null,
            "min_width": null,
            "border": null,
            "align_items": null,
            "bottom": null,
            "_model_module": "@jupyter-widgets/base",
            "top": null,
            "grid_column": null,
            "overflow_y": null,
            "overflow_x": null,
            "grid_auto_flow": null,
            "grid_area": null,
            "grid_template_columns": null,
            "flex": null,
            "_model_name": "LayoutModel",
            "justify_items": null,
            "grid_row": null,
            "max_height": null,
            "align_content": null,
            "visibility": null,
            "align_self": null,
            "height": null,
            "min_height": null,
            "padding": null,
            "grid_auto_rows": null,
            "grid_gap": null,
            "max_width": null,
            "order": null,
            "_view_module_version": "1.2.0",
            "grid_template_areas": null,
            "object_position": null,
            "object_fit": null,
            "grid_auto_columns": null,
            "margin": null,
            "display": null,
            "left": null
          }
        },
        "01f0d68867cc41019c2a889e24785ccc": {
          "model_module": "@jupyter-widgets/controls",
          "model_name": "FloatProgressModel",
          "state": {
            "_view_name": "ProgressView",
            "style": "IPY_MODEL_ee5d6942da374f86bc47891c91e91c68",
            "_dom_classes": [],
            "description": "100%",
            "_model_name": "FloatProgressModel",
            "bar_style": "success",
            "max": 30,
            "_view_module": "@jupyter-widgets/controls",
            "_model_module_version": "1.5.0",
            "value": 30,
            "_view_count": null,
            "_view_module_version": "1.5.0",
            "orientation": "horizontal",
            "min": 0,
            "description_tooltip": null,
            "_model_module": "@jupyter-widgets/controls",
            "layout": "IPY_MODEL_1652e745ce7e4d19b553f00079efe023"
          }
        },
        "ca593af51ade41138c98f08c435faed7": {
          "model_module": "@jupyter-widgets/controls",
          "model_name": "HTMLModel",
          "state": {
            "_view_name": "HTMLView",
            "style": "IPY_MODEL_b6e43181b81b4cc8a0d8731c5f32ca1f",
            "_dom_classes": [],
            "description": "",
            "_model_name": "HTMLModel",
            "placeholder": "​",
            "_view_module": "@jupyter-widgets/controls",
            "_model_module_version": "1.5.0",
            "value": " 30/30 [00:07&lt;00:00,  4.18it/s]",
            "_view_count": null,
            "_view_module_version": "1.5.0",
            "description_tooltip": null,
            "_model_module": "@jupyter-widgets/controls",
            "layout": "IPY_MODEL_272c7fe9020b4734865ab2e53fc38bf6"
          }
        },
        "ee5d6942da374f86bc47891c91e91c68": {
          "model_module": "@jupyter-widgets/controls",
          "model_name": "ProgressStyleModel",
          "state": {
            "_view_name": "StyleView",
            "_model_name": "ProgressStyleModel",
            "description_width": "initial",
            "_view_module": "@jupyter-widgets/base",
            "_model_module_version": "1.5.0",
            "_view_count": null,
            "_view_module_version": "1.2.0",
            "bar_color": null,
            "_model_module": "@jupyter-widgets/controls"
          }
        },
        "1652e745ce7e4d19b553f00079efe023": {
          "model_module": "@jupyter-widgets/base",
          "model_name": "LayoutModel",
          "state": {
            "_view_name": "LayoutView",
            "grid_template_rows": null,
            "right": null,
            "justify_content": null,
            "_view_module": "@jupyter-widgets/base",
            "overflow": null,
            "_model_module_version": "1.2.0",
            "_view_count": null,
            "flex_flow": null,
            "width": null,
            "min_width": null,
            "border": null,
            "align_items": null,
            "bottom": null,
            "_model_module": "@jupyter-widgets/base",
            "top": null,
            "grid_column": null,
            "overflow_y": null,
            "overflow_x": null,
            "grid_auto_flow": null,
            "grid_area": null,
            "grid_template_columns": null,
            "flex": null,
            "_model_name": "LayoutModel",
            "justify_items": null,
            "grid_row": null,
            "max_height": null,
            "align_content": null,
            "visibility": null,
            "align_self": null,
            "height": null,
            "min_height": null,
            "padding": null,
            "grid_auto_rows": null,
            "grid_gap": null,
            "max_width": null,
            "order": null,
            "_view_module_version": "1.2.0",
            "grid_template_areas": null,
            "object_position": null,
            "object_fit": null,
            "grid_auto_columns": null,
            "margin": null,
            "display": null,
            "left": null
          }
        },
        "b6e43181b81b4cc8a0d8731c5f32ca1f": {
          "model_module": "@jupyter-widgets/controls",
          "model_name": "DescriptionStyleModel",
          "state": {
            "_view_name": "StyleView",
            "_model_name": "DescriptionStyleModel",
            "description_width": "",
            "_view_module": "@jupyter-widgets/base",
            "_model_module_version": "1.5.0",
            "_view_count": null,
            "_view_module_version": "1.2.0",
            "_model_module": "@jupyter-widgets/controls"
          }
        },
        "272c7fe9020b4734865ab2e53fc38bf6": {
          "model_module": "@jupyter-widgets/base",
          "model_name": "LayoutModel",
          "state": {
            "_view_name": "LayoutView",
            "grid_template_rows": null,
            "right": null,
            "justify_content": null,
            "_view_module": "@jupyter-widgets/base",
            "overflow": null,
            "_model_module_version": "1.2.0",
            "_view_count": null,
            "flex_flow": null,
            "width": null,
            "min_width": null,
            "border": null,
            "align_items": null,
            "bottom": null,
            "_model_module": "@jupyter-widgets/base",
            "top": null,
            "grid_column": null,
            "overflow_y": null,
            "overflow_x": null,
            "grid_auto_flow": null,
            "grid_area": null,
            "grid_template_columns": null,
            "flex": null,
            "_model_name": "LayoutModel",
            "justify_items": null,
            "grid_row": null,
            "max_height": null,
            "align_content": null,
            "visibility": null,
            "align_self": null,
            "height": null,
            "min_height": null,
            "padding": null,
            "grid_auto_rows": null,
            "grid_gap": null,
            "max_width": null,
            "order": null,
            "_view_module_version": "1.2.0",
            "grid_template_areas": null,
            "object_position": null,
            "object_fit": null,
            "grid_auto_columns": null,
            "margin": null,
            "display": null,
            "left": null
          }
        }
      }
    }
  },
  "cells": [
    {
      "cell_type": "markdown",
      "metadata": {
        "id": "view-in-github",
        "colab_type": "text"
      },
      "source": [
        "<a href=\"https://colab.research.google.com/github/LeilaYK/Classifying_Shapes/blob/main/OX.ipynb\" target=\"_parent\"><img src=\"https://colab.research.google.com/assets/colab-badge.svg\" alt=\"Open In Colab\"/></a>"
      ]
    },
    {
      "cell_type": "code",
      "metadata": {
        "id": "nMtDi4fDItIv"
      },
      "source": [
        "from glob import glob"
      ],
      "execution_count": null,
      "outputs": []
    },
    {
      "cell_type": "code",
      "metadata": {
        "id": "EJOlzpExI9l2"
      },
      "source": [
        "train_raw_0_list = glob('./drive/MyDrive/OX/train_raw/O/*')"
      ],
      "execution_count": null,
      "outputs": []
    },
    {
      "cell_type": "code",
      "metadata": {
        "colab": {
          "base_uri": "https://localhost:8080/"
        },
        "id": "jv6MElH0Jcls",
        "outputId": "8b8e9157-dbcc-4c5b-bd17-475c786cd56e"
      },
      "source": [
        "train_raw_0_list"
      ],
      "execution_count": null,
      "outputs": [
        {
          "output_type": "execute_result",
          "data": {
            "text/plain": [
              "['./drive/MyDrive/OX/train_raw/O/o49.png',\n",
              " './drive/MyDrive/OX/train_raw/O/o50.png',\n",
              " './drive/MyDrive/OX/train_raw/O/o48.png',\n",
              " './drive/MyDrive/OX/train_raw/O/o48(1).png',\n",
              " './drive/MyDrive/OX/train_raw/O/o47.png',\n",
              " './drive/MyDrive/OX/train_raw/O/o46.png',\n",
              " './drive/MyDrive/OX/train_raw/O/o45.png',\n",
              " './drive/MyDrive/OX/train_raw/O/o44.png',\n",
              " './drive/MyDrive/OX/train_raw/O/o41.png',\n",
              " './drive/MyDrive/OX/train_raw/O/o42.png',\n",
              " './drive/MyDrive/OX/train_raw/O/o40.png',\n",
              " './drive/MyDrive/OX/train_raw/O/o35.png',\n",
              " './drive/MyDrive/OX/train_raw/O/o37.png',\n",
              " './drive/MyDrive/OX/train_raw/O/o30.png',\n",
              " './drive/MyDrive/OX/train_raw/O/o31.png',\n",
              " './drive/MyDrive/OX/train_raw/O/o28.png',\n",
              " './drive/MyDrive/OX/train_raw/O/o29.png',\n",
              " './drive/MyDrive/OX/train_raw/O/o33.png',\n",
              " './drive/MyDrive/OX/train_raw/O/o32.png',\n",
              " './drive/MyDrive/OX/train_raw/O/o23.png',\n",
              " './drive/MyDrive/OX/train_raw/O/o22.png',\n",
              " './drive/MyDrive/OX/train_raw/O/o26.png',\n",
              " './drive/MyDrive/OX/train_raw/O/o20.png',\n",
              " './drive/MyDrive/OX/train_raw/O/o21.png',\n",
              " './drive/MyDrive/OX/train_raw/O/o19.png',\n",
              " './drive/MyDrive/OX/train_raw/O/o18.png',\n",
              " './drive/MyDrive/OX/train_raw/O/o25.png',\n",
              " './drive/MyDrive/OX/train_raw/O/o24.png',\n",
              " './drive/MyDrive/OX/train_raw/O/o17.png',\n",
              " './drive/MyDrive/OX/train_raw/O/o15.png',\n",
              " './drive/MyDrive/OX/train_raw/O/o16.png',\n",
              " './drive/MyDrive/OX/train_raw/O/o14.png',\n",
              " './drive/MyDrive/OX/train_raw/O/o13.png',\n",
              " './drive/MyDrive/OX/train_raw/O/o12.png',\n",
              " './drive/MyDrive/OX/train_raw/O/o11.png',\n",
              " './drive/MyDrive/OX/train_raw/O/o10.png',\n",
              " './drive/MyDrive/OX/train_raw/O/o7.png',\n",
              " './drive/MyDrive/OX/train_raw/O/o9.png',\n",
              " './drive/MyDrive/OX/train_raw/O/o6.png',\n",
              " './drive/MyDrive/OX/train_raw/O/o3.png',\n",
              " './drive/MyDrive/OX/train_raw/O/o4.png',\n",
              " './drive/MyDrive/OX/train_raw/O/01.png',\n",
              " './drive/MyDrive/OX/train_raw/O/02.png',\n",
              " './drive/MyDrive/OX/train_raw/O/IMG_0774.JPG',\n",
              " './drive/MyDrive/OX/train_raw/O/IMG_0758.JPG',\n",
              " './drive/MyDrive/OX/train_raw/O/IMG_0767.JPG',\n",
              " './drive/MyDrive/OX/train_raw/O/IMG_0770.JPG',\n",
              " './drive/MyDrive/OX/train_raw/O/IMG_0762.JPG',\n",
              " './drive/MyDrive/OX/train_raw/O/IMG_0776.JPG',\n",
              " './drive/MyDrive/OX/train_raw/O/IMG_0777.JPG',\n",
              " './drive/MyDrive/OX/train_raw/O/IMG_0761.JPG',\n",
              " './drive/MyDrive/OX/train_raw/O/IMG_0778.JPG',\n",
              " './drive/MyDrive/OX/train_raw/O/IMG_0783.JPG',\n",
              " './drive/MyDrive/OX/train_raw/O/IMG_0781.JPG',\n",
              " './drive/MyDrive/OX/train_raw/O/IMG_0775.JPG',\n",
              " './drive/MyDrive/OX/train_raw/O/IMG_0768.JPG',\n",
              " './drive/MyDrive/OX/train_raw/O/IMG_0754.JPG',\n",
              " './drive/MyDrive/OX/train_raw/O/IMG_0760.JPG',\n",
              " './drive/MyDrive/OX/train_raw/O/IMG_0755.JPG',\n",
              " './drive/MyDrive/OX/train_raw/O/IMG_0785.JPG',\n",
              " './drive/MyDrive/OX/train_raw/O/IMG_0771.JPG',\n",
              " './drive/MyDrive/OX/train_raw/O/IMG_0757.JPG',\n",
              " './drive/MyDrive/OX/train_raw/O/IMG_0763.JPG',\n",
              " './drive/MyDrive/OX/train_raw/O/IMG_0779.JPG',\n",
              " './drive/MyDrive/OX/train_raw/O/IMG_0764.JPG',\n",
              " './drive/MyDrive/OX/train_raw/O/IMG_0773.JPG',\n",
              " './drive/MyDrive/OX/train_raw/O/IMG_0756.JPG',\n",
              " './drive/MyDrive/OX/train_raw/O/IMG_0784.JPG',\n",
              " './drive/MyDrive/OX/train_raw/O/IMG_0782.JPG',\n",
              " './drive/MyDrive/OX/train_raw/O/IMG_0766.JPG',\n",
              " './drive/MyDrive/OX/train_raw/O/IMG_0759.JPG',\n",
              " './drive/MyDrive/OX/train_raw/O/IMG_0772.JPG',\n",
              " './drive/MyDrive/OX/train_raw/O/IMG_0780.JPG',\n",
              " './drive/MyDrive/OX/train_raw/O/IMG_0765.JPG',\n",
              " './drive/MyDrive/OX/train_raw/O/IMG_0769.JPG',\n",
              " './drive/MyDrive/OX/train_raw/O/IMG_0801.JPG',\n",
              " './drive/MyDrive/OX/train_raw/O/IMG_0796.JPG',\n",
              " './drive/MyDrive/OX/train_raw/O/IMG_0800.JPG',\n",
              " './drive/MyDrive/OX/train_raw/O/IMG_0793.JPG',\n",
              " './drive/MyDrive/OX/train_raw/O/IMG_0797.JPG',\n",
              " './drive/MyDrive/OX/train_raw/O/IMG_0791.JPG',\n",
              " './drive/MyDrive/OX/train_raw/O/IMG_0792.JPG',\n",
              " './drive/MyDrive/OX/train_raw/O/IMG_0794.JPG',\n",
              " './drive/MyDrive/OX/train_raw/O/IMG_0787.JPG',\n",
              " './drive/MyDrive/OX/train_raw/O/IMG_0790.JPG',\n",
              " './drive/MyDrive/OX/train_raw/O/IMG_0788.JPG',\n",
              " './drive/MyDrive/OX/train_raw/O/IMG_0798.JPG',\n",
              " './drive/MyDrive/OX/train_raw/O/IMG_0799.JPG',\n",
              " './drive/MyDrive/OX/train_raw/O/IMG_0795.JPG',\n",
              " './drive/MyDrive/OX/train_raw/O/IMG_0786.JPG',\n",
              " './drive/MyDrive/OX/train_raw/O/IMG_0789.JPG',\n",
              " './drive/MyDrive/OX/train_raw/O/IMG_0802.JPG',\n",
              " './drive/MyDrive/OX/train_raw/O/IMG_0803.JPG',\n",
              " './drive/MyDrive/OX/train_raw/O/PNG 이미지(41).png',\n",
              " './drive/MyDrive/OX/train_raw/O/PNG 이미지(39).png',\n",
              " './drive/MyDrive/OX/train_raw/O/PNG 이미지(37).png',\n",
              " './drive/MyDrive/OX/train_raw/O/PNG 이미지(36).png',\n",
              " './drive/MyDrive/OX/train_raw/O/PNG 이미지(35).png',\n",
              " './drive/MyDrive/OX/train_raw/O/PNG 이미지(34).png',\n",
              " './drive/MyDrive/OX/train_raw/O/PNG 이미지(33).png',\n",
              " './drive/MyDrive/OX/train_raw/O/PNG 이미지(32).png',\n",
              " './drive/MyDrive/OX/train_raw/O/PNG 이미지(31).png',\n",
              " './drive/MyDrive/OX/train_raw/O/PNG 이미지(30).png',\n",
              " './drive/MyDrive/OX/train_raw/O/PNG 이미지(28).png',\n",
              " './drive/MyDrive/OX/train_raw/O/PNG 이미지(27).png',\n",
              " './drive/MyDrive/OX/train_raw/O/PNG 이미지(26).png',\n",
              " './drive/MyDrive/OX/train_raw/O/PNG 이미지(25).png',\n",
              " './drive/MyDrive/OX/train_raw/O/PNG 이미지(22).png',\n",
              " './drive/MyDrive/OX/train_raw/O/PNG 이미지(21).png',\n",
              " './drive/MyDrive/OX/train_raw/O/PNG 이미지(20).png',\n",
              " './drive/MyDrive/OX/train_raw/O/PNG 이미지(19).png',\n",
              " './drive/MyDrive/OX/train_raw/O/PNG 이미지(18).png',\n",
              " './drive/MyDrive/OX/train_raw/O/PNG 이미지(17).png',\n",
              " './drive/MyDrive/OX/train_raw/O/PNG 이미지(16).png',\n",
              " './drive/MyDrive/OX/train_raw/O/PNG 이미지(15).png',\n",
              " './drive/MyDrive/OX/train_raw/O/PNG 이미지(14).png',\n",
              " './drive/MyDrive/OX/train_raw/O/PNG 이미지(13).png',\n",
              " './drive/MyDrive/OX/train_raw/O/PNG 이미지(12).png',\n",
              " './drive/MyDrive/OX/train_raw/O/PNG 이미지(11).png',\n",
              " './drive/MyDrive/OX/train_raw/O/PNG 이미지(10).png',\n",
              " './drive/MyDrive/OX/train_raw/O/PNG 이미지(9).png',\n",
              " './drive/MyDrive/OX/train_raw/O/PNG 이미지(8).png',\n",
              " './drive/MyDrive/OX/train_raw/O/PNG 이미지(7).png',\n",
              " './drive/MyDrive/OX/train_raw/O/IMG_1126.JPG',\n",
              " './drive/MyDrive/OX/train_raw/O/IMG_1122.JPG',\n",
              " './drive/MyDrive/OX/train_raw/O/IMG_1123.JPG',\n",
              " './drive/MyDrive/OX/train_raw/O/IMG_1125.JPG',\n",
              " './drive/MyDrive/OX/train_raw/O/IMG_1124.JPG',\n",
              " './drive/MyDrive/OX/train_raw/O/PNG 이미지(6).png',\n",
              " './drive/MyDrive/OX/train_raw/O/IMG_1163.JPG',\n",
              " './drive/MyDrive/OX/train_raw/O/IMG_1155.JPG',\n",
              " './drive/MyDrive/OX/train_raw/O/IMG_1159.JPG',\n",
              " './drive/MyDrive/OX/train_raw/O/IMG_1160.JPG',\n",
              " './drive/MyDrive/OX/train_raw/O/IMG_1154.JPG',\n",
              " './drive/MyDrive/OX/train_raw/O/IMG_1156.JPG',\n",
              " './drive/MyDrive/OX/train_raw/O/IMG_1158.JPG',\n",
              " './drive/MyDrive/OX/train_raw/O/IMG_1153.JPG',\n",
              " './drive/MyDrive/OX/train_raw/O/IMG_1129.JPG',\n",
              " './drive/MyDrive/OX/train_raw/O/IMG_1147.JPG',\n",
              " './drive/MyDrive/OX/train_raw/O/IMG_1150.JPG',\n",
              " './drive/MyDrive/OX/train_raw/O/IMG_1167.JPG',\n",
              " './drive/MyDrive/OX/train_raw/O/PNG 이미지(5).png',\n",
              " './drive/MyDrive/OX/train_raw/O/IMG_1157.JPG',\n",
              " './drive/MyDrive/OX/train_raw/O/IMG_1152.JPG',\n",
              " './drive/MyDrive/OX/train_raw/O/IMG_1149.JPG',\n",
              " './drive/MyDrive/OX/train_raw/O/IMG_1144.JPG',\n",
              " './drive/MyDrive/OX/train_raw/O/IMG_1128.JPG',\n",
              " './drive/MyDrive/OX/train_raw/O/IMG_1146.JPG',\n",
              " './drive/MyDrive/OX/train_raw/O/IMG_1140.JPG',\n",
              " './drive/MyDrive/OX/train_raw/O/IMG_1133.JPG',\n",
              " './drive/MyDrive/OX/train_raw/O/IMG_1130.JPG',\n",
              " './drive/MyDrive/OX/train_raw/O/IMG_1127.JPG',\n",
              " './drive/MyDrive/OX/train_raw/O/PNG 이미지(4).png',\n",
              " './drive/MyDrive/OX/train_raw/O/PNG 이미지(3).png',\n",
              " './drive/MyDrive/OX/train_raw/O/PNG 이미지(2).png',\n",
              " './drive/MyDrive/OX/train_raw/O/IMG_1131.JPG',\n",
              " './drive/MyDrive/OX/train_raw/O/IMG_1121.JPG',\n",
              " './drive/MyDrive/OX/train_raw/O/IMG_1132.JPG',\n",
              " './drive/MyDrive/OX/train_raw/O/IMG_1143.JPG',\n",
              " './drive/MyDrive/OX/train_raw/O/IMG_1148.JPG',\n",
              " './drive/MyDrive/OX/train_raw/O/IMG_1161.JPG',\n",
              " './drive/MyDrive/OX/train_raw/O/IMG_1151.JPG',\n",
              " './drive/MyDrive/OX/train_raw/O/IMG_1162.JPG',\n",
              " './drive/MyDrive/OX/train_raw/O/IMG_1164.JPG',\n",
              " './drive/MyDrive/OX/train_raw/O/IMG_1165.JPG',\n",
              " './drive/MyDrive/OX/train_raw/O/IMG_1166.JPG',\n",
              " './drive/MyDrive/OX/train_raw/O/IMG_1168.JPG']"
            ]
          },
          "metadata": {
            "tags": []
          },
          "execution_count": 31
        }
      ]
    },
    {
      "cell_type": "code",
      "metadata": {
        "id": "rCHOcW3BJd1W"
      },
      "source": [
        "from skimage.transform import rescale, resize\n",
        "from skimage import color\n",
        "from skimage.io import imread, imsave\n",
        "import matplotlib.pyplot as plt"
      ],
      "execution_count": null,
      "outputs": []
    },
    {
      "cell_type": "code",
      "metadata": {
        "colab": {
          "base_uri": "https://localhost:8080/",
          "height": 278
        },
        "id": "PfTIxdx7J0-W",
        "outputId": "919ce065-2581-4ed1-b3d0-bed8c98ce973"
      },
      "source": [
        "image = imread(train_raw_0_list[0])\n",
        "image = color.rgb2gray(image)\n",
        "plt.imshow(image, cmap='gray')"
      ],
      "execution_count": null,
      "outputs": [
        {
          "output_type": "execute_result",
          "data": {
            "text/plain": [
              "<matplotlib.image.AxesImage at 0x7fbb3ed3c080>"
            ]
          },
          "metadata": {
            "tags": []
          },
          "execution_count": 33
        },
        {
          "output_type": "display_data",
          "data": {
            "image/png": "[encoded data removed]",
            "text/plain": [
              "<Figure size 432x288 with 1 Axes>"
            ]
          },
          "metadata": {
            "tags": [],
            "needs_background": "light"
          }
        }
      ]
    },
    {
      "cell_type": "code",
      "metadata": {
        "colab": {
          "base_uri": "https://localhost:8080/",
          "height": 282
        },
        "id": "buwvGxKXJ94u",
        "outputId": "64d0aac7-8756-4591-c967-be4e03ddd4df"
      },
      "source": [
        "img_resized = resize(image, (28, 28))\n",
        "print(img_resized.shape)\n",
        "plt.imshow(img_resized, cmap='gray');"
      ],
      "execution_count": null,
      "outputs": [
        {
          "output_type": "stream",
          "text": [
            "(28, 28)\n"
          ],
          "name": "stdout"
        },
        {
          "output_type": "display_data",
          "data": {
            "image/png": "[encoded data removed]",
            "text/plain": [
              "<Figure size 432x288 with 1 Axes>"
            ]
          },
          "metadata": {
            "tags": [],
            "needs_background": "light"
          }
        }
      ]
    },
    {
      "cell_type": "code",
      "metadata": {
        "id": "YR2k4UqnKLBt"
      },
      "source": [
        "import numpy as np\n",
        "\n",
        "imsave(\"./drive/MyDrive/OX/tmp.png\", np.round(img_resized*255).astype(np.uint8))"
      ],
      "execution_count": null,
      "outputs": []
    },
    {
      "cell_type": "code",
      "metadata": {
        "colab": {
          "base_uri": "https://localhost:8080/",
          "height": 299
        },
        "id": "gqGVqM_aKdzu",
        "outputId": "bbaa763c-faca-4fb6-a38d-f3bf7b127a51"
      },
      "source": [
        "tmp = imread('./drive/MyDrive/OX/tmp.png')\n",
        "print(tmp.shape)\n",
        "plt.imshow(tmp, cmap='gray')"
      ],
      "execution_count": null,
      "outputs": [
        {
          "output_type": "stream",
          "text": [
            "(28, 28)\n"
          ],
          "name": "stdout"
        },
        {
          "output_type": "execute_result",
          "data": {
            "text/plain": [
              "<matplotlib.image.AxesImage at 0x7fbb3ec73358>"
            ]
          },
          "metadata": {
            "tags": []
          },
          "execution_count": 36
        },
        {
          "output_type": "display_data",
          "data": {
            "image/png": "[encoded data removed]",
            "text/plain": [
              "<Figure size 432x288 with 1 Axes>"
            ]
          },
          "metadata": {
            "tags": [],
            "needs_background": "light"
          }
        }
      ]
    },
    {
      "cell_type": "code",
      "metadata": {
        "colab": {
          "base_uri": "https://localhost:8080/",
          "height": 35
        },
        "id": "6lT7-aHwK4rR",
        "outputId": "385b8a6c-2976-426b-b681-d50ef3a6837a"
      },
      "source": [
        "train_raw_0_list[0].split('/')[-1][:-4]"
      ],
      "execution_count": null,
      "outputs": [
        {
          "output_type": "execute_result",
          "data": {
            "application/vnd.google.colaboratory.intrinsic+json": {
              "type": "string"
            },
            "text/plain": [
              "'o49'"
            ]
          },
          "metadata": {
            "tags": []
          },
          "execution_count": 37
        }
      ]
    },
    {
      "cell_type": "code",
      "metadata": {
        "id": "p71Os3RELCYh"
      },
      "source": [
        "def img_resize(img):\n",
        "  img = color.rgb2gray(img)\n",
        "  return resize(img, (28,28))"
      ],
      "execution_count": null,
      "outputs": []
    },
    {
      "cell_type": "code",
      "metadata": {
        "colab": {
          "base_uri": "https://localhost:8080/",
          "height": 188,
          "referenced_widgets": [
            "bb08c24eacec4559b9fb78c41813dc85",
            "adfb8c20b3dc409298ce2afdb40b5ff3",
            "a455b2862d224900ad69126dfb9f3bfb",
            "fa56b75bbc3b4116a05c7814704287f9",
            "51113e0e23a24deb99bd61faa9ddd794",
            "fa9c054dc9b84d7cb2ebf630782b19f9",
            "4aaee8b976404751840f5f3f082b7534",
            "e4b4c8df08154756ac220089bb09f04d"
          ]
        },
        "id": "SY6ATCuhLK5k",
        "outputId": "ac781d7d-ce9d-47e3-9e14-0561508b24ea"
      },
      "source": [
        "from tqdm.notebook import tqdm\n",
        "\n",
        "def convert_train_O():\n",
        "  train_raw_0_list = glob('./drive/MyDrive/OX/train_raw/O/*')\n",
        "  for each in tqdm(train_raw_0_list):\n",
        "    img = imread(each)\n",
        "    img_resized = img_resize(img)\n",
        "    save_name = './drive/MyDrive/OX/train/O/' + each.split('/')[-1][:-4]+'.png'\n",
        "    imsave(save_name, np.round(img_resized*255).astype(np.uint8))\n",
        "\n",
        "convert_train_O()"
      ],
      "execution_count": null,
      "outputs": [
        {
          "output_type": "display_data",
          "data": {
            "application/vnd.jupyter.widget-view+json": {
              "model_id": "bb08c24eacec4559b9fb78c41813dc85",
              "version_minor": 0,
              "version_major": 2
            },
            "text/plain": [
              "HBox(children=(FloatProgress(value=0.0, max=167.0), HTML(value='')))"
            ]
          },
          "metadata": {
            "tags": []
          }
        },
        {
          "output_type": "stream",
          "text": [
            "/usr/local/lib/python3.6/dist-packages/ipykernel_launcher.py:9: UserWarning: ./drive/MyDrive/OX/train/O/o41.png is a low contrast image\n",
            "  if __name__ == '__main__':\n",
            "/usr/local/lib/python3.6/dist-packages/ipykernel_launcher.py:9: UserWarning: ./drive/MyDrive/OX/train/O/o42.png is a low contrast image\n",
            "  if __name__ == '__main__':\n",
            "/usr/local/lib/python3.6/dist-packages/ipykernel_launcher.py:9: UserWarning: ./drive/MyDrive/OX/train/O/o40.png is a low contrast image\n",
            "  if __name__ == '__main__':\n"
          ],
          "name": "stderr"
        },
        {
          "output_type": "stream",
          "text": [
            "\n"
          ],
          "name": "stdout"
        }
      ]
    },
    {
      "cell_type": "code",
      "metadata": {
        "id": "CZrXoe5gL4dl",
        "colab": {
          "base_uri": "https://localhost:8080/",
          "height": 66,
          "referenced_widgets": [
            "947b5224bd8c4c68a79cc9c36def8b4f",
            "c1c6cb5447954c51a0c68e4d846d2847",
            "01185ff2eee745aeb0fa4bb2f3db0553",
            "5d2aea90f6644c7893379e5151280c99",
            "31ee937cf6ad4d1f9289aad9ac76ce7f",
            "7740604605054dc9bac6581413389518",
            "05bb601e0d2347b7b834a843bf2422b9",
            "d63daf74943c475e8b0c5352ca5db106"
          ]
        },
        "outputId": "c75cfe60-0ef6-4771-90a4-9c0ff2b39b5d"
      },
      "source": [
        "def convert_train_X():\n",
        "  train_raw_0_list = glob('./drive/MyDrive/OX/train_raw/X/*')\n",
        "  for each in tqdm(train_raw_0_list):\n",
        "    img = imread(each)\n",
        "    img_resized = img_resize(img)\n",
        "    save_name = './drive/MyDrive/OX/train/X/' + each.split('/')[-1][:-4]+'.png'\n",
        "    imsave(save_name, np.round(img_resized*255).astype(np.uint8))\n",
        "\n",
        "convert_train_X()"
      ],
      "execution_count": null,
      "outputs": [
        {
          "output_type": "display_data",
          "data": {
            "application/vnd.jupyter.widget-view+json": {
              "model_id": "947b5224bd8c4c68a79cc9c36def8b4f",
              "version_minor": 0,
              "version_major": 2
            },
            "text/plain": [
              "HBox(children=(FloatProgress(value=0.0, max=114.0), HTML(value='')))"
            ]
          },
          "metadata": {
            "tags": []
          }
        },
        {
          "output_type": "stream",
          "text": [
            "\n"
          ],
          "name": "stdout"
        }
      ]
    },
    {
      "cell_type": "code",
      "metadata": {
        "id": "kEbKJH8hMTAH",
        "colab": {
          "base_uri": "https://localhost:8080/",
          "height": 66,
          "referenced_widgets": [
            "8525ef79d7ae4a81b6cb1709d232094e",
            "cd1561e147374d30b48b8d53a8ed6641",
            "744085c8498d445b82a03e6c9c71ecd1",
            "b97ca8b99fff4c869eda47b444c92423",
            "24a0b1e7b8b74af5b82f54a0f5f74875",
            "10eeb6b2442c46ee87eb41df486c9d0f",
            "978591e283b24059ab4315b290353d49",
            "a1ba39abc9fe4954881a3af3841d3b0e"
          ]
        },
        "outputId": "31ce3d35-b7f3-4f3c-b6b9-437534904518"
      },
      "source": [
        "def convert_test_O():\n",
        "  train_raw_0_list = glob('./drive/MyDrive/OX/test_raw/O/*')\n",
        "  for each in tqdm(train_raw_0_list):\n",
        "    img = imread(each)\n",
        "    img_resized = img_resize(img)\n",
        "    save_name = './drive/MyDrive/OX/test/O/' + each.split('/')[-1][:-4]+'.png'\n",
        "    imsave(save_name, np.round(img_resized*255).astype(np.uint8))\n",
        "\n",
        "convert_test_O()"
      ],
      "execution_count": null,
      "outputs": [
        {
          "output_type": "display_data",
          "data": {
            "application/vnd.jupyter.widget-view+json": {
              "model_id": "8525ef79d7ae4a81b6cb1709d232094e",
              "version_minor": 0,
              "version_major": 2
            },
            "text/plain": [
              "HBox(children=(FloatProgress(value=0.0, max=30.0), HTML(value='')))"
            ]
          },
          "metadata": {
            "tags": []
          }
        },
        {
          "output_type": "stream",
          "text": [
            "\n"
          ],
          "name": "stdout"
        }
      ]
    },
    {
      "cell_type": "code",
      "metadata": {
        "id": "rwh0O3nCMTWk",
        "colab": {
          "base_uri": "https://localhost:8080/",
          "height": 66,
          "referenced_widgets": [
            "0b4b7de17ce04f26b06761b95fa1f994",
            "f5b0b4f53ae346df887441b4f856420f",
            "01f0d68867cc41019c2a889e24785ccc",
            "ca593af51ade41138c98f08c435faed7",
            "ee5d6942da374f86bc47891c91e91c68",
            "1652e745ce7e4d19b553f00079efe023",
            "b6e43181b81b4cc8a0d8731c5f32ca1f",
            "272c7fe9020b4734865ab2e53fc38bf6"
          ]
        },
        "outputId": "b5868d79-aa7f-4417-a47a-3f22967bc589"
      },
      "source": [
        "def convert_test_X():\n",
        "  train_raw_0_list = glob('./drive/MyDrive/OX/test_raw/X/*')\n",
        "  for each in tqdm(train_raw_0_list):\n",
        "    img = imread(each)\n",
        "    img_resized = img_resize(img)\n",
        "    save_name = './drive/MyDrive/OX/test/X/' + each.split('/')[-1][:-4]+'.png'\n",
        "    imsave(save_name, np.round(img_resized*255).astype(np.uint8))\n",
        "\n",
        "convert_test_X()"
      ],
      "execution_count": null,
      "outputs": [
        {
          "output_type": "display_data",
          "data": {
            "application/vnd.jupyter.widget-view+json": {
              "model_id": "0b4b7de17ce04f26b06761b95fa1f994",
              "version_minor": 0,
              "version_major": 2
            },
            "text/plain": [
              "HBox(children=(FloatProgress(value=0.0, max=30.0), HTML(value='')))"
            ]
          },
          "metadata": {
            "tags": []
          }
        },
        {
          "output_type": "stream",
          "text": [
            "\n"
          ],
          "name": "stdout"
        }
      ]
    },
    {
      "cell_type": "code",
      "metadata": {
        "id": "i4s8pSSIMTlo"
      },
      "source": [
        "import numpy as np\n",
        "from keras.models import Sequential\n",
        "from keras.layers import Dense\n",
        "from keras.layers import Flatten\n",
        "from keras.layers.convolutional import Conv2D\n",
        "from keras.layers.convolutional import MaxPooling2D\n",
        "from keras.preprocessing.image import ImageDataGenerator\n",
        "import keras\n",
        "\n",
        "np.random.seed(13)"
      ],
      "execution_count": null,
      "outputs": []
    },
    {
      "cell_type": "code",
      "metadata": {
        "colab": {
          "base_uri": "https://localhost:8080/",
          "height": 35
        },
        "id": "4fFmlgYRO1tO",
        "outputId": "fa4af3f8-5fd4-49ce-ab22-a7be731de0f2"
      },
      "source": [
        "keras.__version__"
      ],
      "execution_count": null,
      "outputs": [
        {
          "output_type": "execute_result",
          "data": {
            "application/vnd.google.colaboratory.intrinsic+json": {
              "type": "string"
            },
            "text/plain": [
              "'2.4.3'"
            ]
          },
          "metadata": {
            "tags": []
          },
          "execution_count": 44
        }
      ]
    },
    {
      "cell_type": "code",
      "metadata": {
        "colab": {
          "base_uri": "https://localhost:8080/"
        },
        "id": "NLc4FnzqO2LF",
        "outputId": "b3440ac4-0766-4f78-94f1-fbf4df79451f"
      },
      "source": [
        "train_datagen = ImageDataGenerator(rescale=1./255)\n",
        "\n",
        "train_generator = train_datagen.flow_from_directory(\n",
        "    './drive/MyDrive/OX/train',\n",
        "    target_size=(28,28),\n",
        "    batch_size=3,\n",
        "    class_mode='categorical')\n",
        "\n",
        "test_datagen = ImageDataGenerator(rescale=1./255)\n",
        "\n",
        "test_generator = test_datagen.flow_from_directory(\n",
        "    './drive/MyDrive/OX/test',\n",
        "    target_size=(28,28),\n",
        "    batch_size=3,\n",
        "    class_mode='categorical')"
      ],
      "execution_count": null,
      "outputs": [
        {
          "output_type": "stream",
          "text": [
            "Found 281 images belonging to 2 classes.\n",
            "Found 60 images belonging to 2 classes.\n"
          ],
          "name": "stdout"
        }
      ]
    },
    {
      "cell_type": "code",
      "metadata": {
        "id": "jjI7hpV9O2Yk"
      },
      "source": [
        "model = Sequential()\n",
        "model.add(Conv2D(32, kernel_size=(3,3),\n",
        "                 activation='relu',\n",
        "                 input_shape=(28,28,3)))\n",
        "model.add(Conv2D(64, (3, 3), activation='relu'))\n",
        "model.add(MaxPooling2D(pool_size=(2,2)))\n",
        "model.add(Flatten())\n",
        "model.add(Dense(128, activation='relu'))\n",
        "model.add(Dense(2, activation='softmax'))"
      ],
      "execution_count": null,
      "outputs": []
    },
    {
      "cell_type": "code",
      "metadata": {
        "id": "Gtt5ZmbrO2in",
        "colab": {
          "base_uri": "https://localhost:8080/"
        },
        "outputId": "fa1705bf-7746-4ac6-8bf6-263b429bd17e"
      },
      "source": [
        "model.summary()"
      ],
      "execution_count": null,
      "outputs": [
        {
          "output_type": "stream",
          "text": [
            "Model: \"sequential\"\n",
            "_________________________________________________________________\n",
            "Layer (type)                 Output Shape              Param #   \n",
            "=================================================================\n",
            "conv2d (Conv2D)              (None, 26, 26, 32)        896       \n",
            "_________________________________________________________________\n",
            "conv2d_1 (Conv2D)            (None, 24, 24, 64)        18496     \n",
            "_________________________________________________________________\n",
            "max_pooling2d (MaxPooling2D) (None, 12, 12, 64)        0         \n",
            "_________________________________________________________________\n",
            "flatten (Flatten)            (None, 9216)              0         \n",
            "_________________________________________________________________\n",
            "dense (Dense)                (None, 128)               1179776   \n",
            "_________________________________________________________________\n",
            "dense_1 (Dense)              (None, 2)                 258       \n",
            "=================================================================\n",
            "Total params: 1,199,426\n",
            "Trainable params: 1,199,426\n",
            "Non-trainable params: 0\n",
            "_________________________________________________________________\n"
          ],
          "name": "stdout"
        }
      ]
    },
    {
      "cell_type": "code",
      "metadata": {
        "id": "9I_xYFZqO2rM"
      },
      "source": [
        "model.compile(loss='categorical_crossentropy',\n",
        "              optimizer='adam', metrics=['accuracy'])"
      ],
      "execution_count": null,
      "outputs": []
    },
    {
      "cell_type": "code",
      "metadata": {
        "id": "0q6l3FMdO20f",
        "colab": {
          "base_uri": "https://localhost:8080/"
        },
        "outputId": "21c4b198-26a2-4ed0-cb14-6a66a34cae93"
      },
      "source": [
        "hist = model.fit_generator(\n",
        "    train_generator,\n",
        "    steps_per_epoch=15,\n",
        "    epochs=50,\n",
        "    validation_data=test_generator,\n",
        "    validation_steps=5)"
      ],
      "execution_count": null,
      "outputs": [
        {
          "output_type": "stream",
          "text": [
            "/usr/local/lib/python3.6/dist-packages/tensorflow/python/keras/engine/training.py:1844: UserWarning: `Model.fit_generator` is deprecated and will be removed in a future version. Please use `Model.fit`, which supports generators.\n",
            "  warnings.warn('`Model.fit_generator` is deprecated and '\n"
          ],
          "name": "stderr"
        },
        {
          "output_type": "stream",
          "text": [
            "Epoch 1/50\n",
            "15/15 [==============================] - 7s 29ms/step - loss: 1.3393 - accuracy: 0.5546 - val_loss: 0.6874 - val_accuracy: 0.4000\n",
            "Epoch 2/50\n",
            "15/15 [==============================] - 0s 9ms/step - loss: 0.6682 - accuracy: 0.5118 - val_loss: 0.6375 - val_accuracy: 0.4667\n",
            "Epoch 3/50\n",
            "15/15 [==============================] - 0s 10ms/step - loss: 0.4995 - accuracy: 0.7931 - val_loss: 0.4270 - val_accuracy: 0.8000\n",
            "Epoch 4/50\n",
            "15/15 [==============================] - 0s 10ms/step - loss: 0.2299 - accuracy: 0.8654 - val_loss: 0.2407 - val_accuracy: 0.8667\n",
            "Epoch 5/50\n",
            "15/15 [==============================] - 0s 9ms/step - loss: 0.2026 - accuracy: 0.9364 - val_loss: 0.2883 - val_accuracy: 0.8667\n",
            "Epoch 6/50\n",
            "15/15 [==============================] - 0s 10ms/step - loss: 0.1111 - accuracy: 0.9495 - val_loss: 0.0331 - val_accuracy: 1.0000\n",
            "Epoch 7/50\n",
            "15/15 [==============================] - 0s 10ms/step - loss: 0.1056 - accuracy: 0.9529 - val_loss: 0.2520 - val_accuracy: 0.8667\n",
            "Epoch 8/50\n",
            "15/15 [==============================] - 0s 13ms/step - loss: 0.1005 - accuracy: 0.9567 - val_loss: 0.0348 - val_accuracy: 1.0000\n",
            "Epoch 9/50\n",
            "15/15 [==============================] - 0s 11ms/step - loss: 0.0381 - accuracy: 0.9771 - val_loss: 0.0587 - val_accuracy: 1.0000\n",
            "Epoch 10/50\n",
            "15/15 [==============================] - 0s 10ms/step - loss: 0.0128 - accuracy: 1.0000 - val_loss: 0.2654 - val_accuracy: 0.8667\n",
            "Epoch 11/50\n",
            "15/15 [==============================] - 0s 9ms/step - loss: 0.1006 - accuracy: 0.9503 - val_loss: 0.0141 - val_accuracy: 1.0000\n",
            "Epoch 12/50\n",
            "15/15 [==============================] - 0s 18ms/step - loss: 0.0103 - accuracy: 1.0000 - val_loss: 0.0030 - val_accuracy: 1.0000\n",
            "Epoch 13/50\n",
            "15/15 [==============================] - 0s 10ms/step - loss: 0.0149 - accuracy: 0.9957 - val_loss: 0.0135 - val_accuracy: 1.0000\n",
            "Epoch 14/50\n",
            "15/15 [==============================] - 0s 11ms/step - loss: 0.1699 - accuracy: 0.9187 - val_loss: 0.0750 - val_accuracy: 0.9333\n",
            "Epoch 15/50\n",
            "15/15 [==============================] - 0s 11ms/step - loss: 0.0083 - accuracy: 1.0000 - val_loss: 0.3040 - val_accuracy: 0.8667\n",
            "Epoch 16/50\n",
            "15/15 [==============================] - 0s 10ms/step - loss: 0.0247 - accuracy: 0.9941 - val_loss: 0.0873 - val_accuracy: 1.0000\n",
            "Epoch 17/50\n",
            "15/15 [==============================] - 0s 11ms/step - loss: 0.0613 - accuracy: 0.9805 - val_loss: 0.0299 - val_accuracy: 1.0000\n",
            "Epoch 18/50\n",
            "15/15 [==============================] - 0s 11ms/step - loss: 0.1477 - accuracy: 0.9460 - val_loss: 0.0073 - val_accuracy: 1.0000\n",
            "Epoch 19/50\n",
            "15/15 [==============================] - 0s 10ms/step - loss: 0.0185 - accuracy: 1.0000 - val_loss: 0.0409 - val_accuracy: 1.0000\n",
            "Epoch 20/50\n",
            "15/15 [==============================] - 0s 11ms/step - loss: 0.0315 - accuracy: 1.0000 - val_loss: 0.0255 - val_accuracy: 1.0000\n",
            "Epoch 21/50\n",
            "15/15 [==============================] - 0s 10ms/step - loss: 0.0959 - accuracy: 0.9771 - val_loss: 0.0305 - val_accuracy: 1.0000\n",
            "Epoch 22/50\n",
            "15/15 [==============================] - 0s 10ms/step - loss: 0.0535 - accuracy: 1.0000 - val_loss: 0.0018 - val_accuracy: 1.0000\n",
            "Epoch 23/50\n",
            "15/15 [==============================] - 0s 10ms/step - loss: 0.0621 - accuracy: 0.9295 - val_loss: 0.0118 - val_accuracy: 1.0000\n",
            "Epoch 24/50\n",
            "15/15 [==============================] - 0s 10ms/step - loss: 0.0092 - accuracy: 1.0000 - val_loss: 0.0327 - val_accuracy: 1.0000\n",
            "Epoch 25/50\n",
            "15/15 [==============================] - 0s 10ms/step - loss: 0.0019 - accuracy: 1.0000 - val_loss: 0.0130 - val_accuracy: 1.0000\n",
            "Epoch 26/50\n",
            "15/15 [==============================] - 0s 10ms/step - loss: 0.0014 - accuracy: 1.0000 - val_loss: 2.2364e-04 - val_accuracy: 1.0000\n",
            "Epoch 27/50\n",
            "15/15 [==============================] - 0s 10ms/step - loss: 0.0011 - accuracy: 1.0000 - val_loss: 4.2187e-04 - val_accuracy: 1.0000\n",
            "Epoch 28/50\n",
            "15/15 [==============================] - 0s 12ms/step - loss: 6.4591e-04 - accuracy: 1.0000 - val_loss: 0.0348 - val_accuracy: 1.0000\n",
            "Epoch 29/50\n",
            "15/15 [==============================] - 0s 10ms/step - loss: 0.0032 - accuracy: 0.9972 - val_loss: 1.3027e-04 - val_accuracy: 1.0000\n",
            "Epoch 30/50\n",
            "15/15 [==============================] - 0s 10ms/step - loss: 0.1129 - accuracy: 0.9771 - val_loss: 0.0113 - val_accuracy: 1.0000\n",
            "Epoch 31/50\n",
            "15/15 [==============================] - 0s 10ms/step - loss: 0.0287 - accuracy: 0.9884 - val_loss: 0.0890 - val_accuracy: 0.9333\n",
            "Epoch 32/50\n",
            "15/15 [==============================] - 0s 10ms/step - loss: 0.0465 - accuracy: 0.9729 - val_loss: 0.0955 - val_accuracy: 0.9333\n",
            "Epoch 33/50\n",
            "15/15 [==============================] - 0s 10ms/step - loss: 0.0652 - accuracy: 0.9884 - val_loss: 0.0091 - val_accuracy: 1.0000\n",
            "Epoch 34/50\n",
            "15/15 [==============================] - 0s 10ms/step - loss: 0.0240 - accuracy: 1.0000 - val_loss: 0.0066 - val_accuracy: 1.0000\n",
            "Epoch 35/50\n",
            "15/15 [==============================] - 0s 10ms/step - loss: 0.0110 - accuracy: 1.0000 - val_loss: 0.0258 - val_accuracy: 1.0000\n",
            "Epoch 36/50\n",
            "15/15 [==============================] - 0s 10ms/step - loss: 0.0030 - accuracy: 1.0000 - val_loss: 0.0120 - val_accuracy: 1.0000\n",
            "Epoch 37/50\n",
            "15/15 [==============================] - 0s 11ms/step - loss: 0.0018 - accuracy: 1.0000 - val_loss: 0.0021 - val_accuracy: 1.0000\n",
            "Epoch 38/50\n",
            "15/15 [==============================] - 0s 10ms/step - loss: 0.0012 - accuracy: 1.0000 - val_loss: 0.0110 - val_accuracy: 1.0000\n",
            "Epoch 39/50\n",
            "15/15 [==============================] - 0s 10ms/step - loss: 0.0054 - accuracy: 0.9957 - val_loss: 0.0031 - val_accuracy: 1.0000\n",
            "Epoch 40/50\n",
            "15/15 [==============================] - 0s 11ms/step - loss: 0.0384 - accuracy: 0.9717 - val_loss: 0.0023 - val_accuracy: 1.0000\n",
            "Epoch 41/50\n",
            "15/15 [==============================] - 0s 11ms/step - loss: 0.0111 - accuracy: 1.0000 - val_loss: 0.1420 - val_accuracy: 0.9333\n",
            "Epoch 42/50\n",
            "15/15 [==============================] - 0s 11ms/step - loss: 9.6033e-04 - accuracy: 1.0000 - val_loss: 0.0066 - val_accuracy: 1.0000\n",
            "Epoch 43/50\n",
            "15/15 [==============================] - 0s 11ms/step - loss: 0.0103 - accuracy: 0.9905 - val_loss: 0.0068 - val_accuracy: 1.0000\n",
            "Epoch 44/50\n",
            "15/15 [==============================] - 0s 11ms/step - loss: 0.0110 - accuracy: 1.0000 - val_loss: 0.0031 - val_accuracy: 1.0000\n",
            "Epoch 45/50\n",
            "15/15 [==============================] - 0s 10ms/step - loss: 0.0013 - accuracy: 1.0000 - val_loss: 0.0020 - val_accuracy: 1.0000\n",
            "Epoch 46/50\n",
            "15/15 [==============================] - 0s 10ms/step - loss: 0.0160 - accuracy: 0.9972 - val_loss: 0.0049 - val_accuracy: 1.0000\n",
            "Epoch 47/50\n",
            "15/15 [==============================] - 0s 10ms/step - loss: 0.0053 - accuracy: 1.0000 - val_loss: 0.0296 - val_accuracy: 1.0000\n",
            "Epoch 48/50\n",
            "15/15 [==============================] - 0s 10ms/step - loss: 0.0031 - accuracy: 1.0000 - val_loss: 2.6079e-04 - val_accuracy: 1.0000\n",
            "Epoch 49/50\n",
            "15/15 [==============================] - 0s 10ms/step - loss: 5.6215e-04 - accuracy: 1.0000 - val_loss: 0.0052 - val_accuracy: 1.0000\n",
            "Epoch 50/50\n",
            "15/15 [==============================] - 0s 11ms/step - loss: 0.0021 - accuracy: 1.0000 - val_loss: 0.0112 - val_accuracy: 1.0000\n"
          ],
          "name": "stdout"
        }
      ]
    },
    {
      "cell_type": "code",
      "metadata": {
        "id": "-cl2IplSO28n",
        "colab": {
          "base_uri": "https://localhost:8080/",
          "height": 374
        },
        "outputId": "3fa3f48a-d285-4869-a7ab-29c22a8c1809"
      },
      "source": [
        "plt.figure(figsize=(12,6))\n",
        "plt.plot(hist.history['loss'], label='loss')\n",
        "plt.plot(hist.history['val_loss'], label='val_loss')\n",
        "plt.plot(hist.history['accuracy'], label='acc')\n",
        "plt.plot(hist.history['val_accuracy'], label='val_acc')\n",
        "plt.legend()\n",
        "plt.show()"
      ],
      "execution_count": null,
      "outputs": [
        {
          "output_type": "display_data",
          "data": {
            "image/png": "[encoded data removed]",
            "text/plain": [
              "<Figure size 864x432 with 1 Axes>"
            ]
          },
          "metadata": {
            "tags": [],
            "needs_background": "light"
          }
        }
      ]
    },
    {
      "cell_type": "code",
      "metadata": {
        "id": "RXWA5HCbO3Ef",
        "colab": {
          "base_uri": "https://localhost:8080/"
        },
        "outputId": "47fe5f33-eaff-4849-a28f-8f94a07165be"
      },
      "source": [
        "scores = model.evaluate(\n",
        "    test_generator,\n",
        "    steps=5)\n",
        "\n",
        "print('%s: %.2f%%' %(model.metrics_names[1], scores[1]*100))"
      ],
      "execution_count": null,
      "outputs": [
        {
          "output_type": "stream",
          "text": [
            "5/5 [==============================] - 0s 8ms/step - loss: 0.0093 - accuracy: 1.0000\n",
            "accuracy: 100.00%\n"
          ],
          "name": "stdout"
        }
      ]
    },
    {
      "cell_type": "code",
      "metadata": {
        "colab": {
          "base_uri": "https://localhost:8080/"
        },
        "id": "Pm4Y5k2pTSD6",
        "outputId": "61b8cfc4-7416-4bc9-c04c-fbdf4b4bce22"
      },
      "source": [
        "model.predict(test_generator)"
      ],
      "execution_count": null,
      "outputs": [
        {
          "output_type": "execute_result",
          "data": {
            "text/plain": [
              "array([[4.89277265e-11, 1.00000000e+00],\n",
              "       [1.78765569e-09, 1.00000000e+00],\n",
              "       [2.12989150e-07, 9.99999762e-01],\n",
              "       [9.99247074e-01, 7.52981054e-04],\n",
              "       [1.00000000e+00, 9.63014130e-12],\n",
              "       [1.16248809e-01, 8.83751214e-01],\n",
              "       [6.23642649e-09, 1.00000000e+00],\n",
              "       [9.99875069e-01, 1.24920160e-04],\n",
              "       [9.99127209e-01, 8.72761593e-04],\n",
              "       [9.99601781e-01, 3.98293399e-04],\n",
              "       [9.99921083e-01, 7.88523903e-05],\n",
              "       [8.34411793e-08, 9.99999881e-01],\n",
              "       [9.99085903e-01, 9.14073025e-04],\n",
              "       [7.06126048e-06, 9.99992967e-01],\n",
              "       [9.99610007e-01, 3.90041270e-04],\n",
              "       [1.00000000e+00, 2.01108108e-09],\n",
              "       [9.99893785e-01, 1.06199856e-04],\n",
              "       [9.99999642e-01, 3.76035814e-07],\n",
              "       [9.99224544e-01, 7.75487453e-04],\n",
              "       [9.99810159e-01, 1.89923405e-04],\n",
              "       [1.22373254e-04, 9.99877572e-01],\n",
              "       [9.40649479e-05, 9.99905944e-01],\n",
              "       [9.96857166e-01, 3.14276270e-03],\n",
              "       [7.45915577e-06, 9.99992490e-01],\n",
              "       [8.24133107e-14, 1.00000000e+00],\n",
              "       [1.96390920e-05, 9.99980330e-01],\n",
              "       [9.91941690e-01, 8.05834401e-03],\n",
              "       [1.01954777e-06, 9.99998927e-01],\n",
              "       [9.99299049e-01, 7.00941193e-04],\n",
              "       [1.98490469e-09, 1.00000000e+00],\n",
              "       [6.98115954e-10, 1.00000000e+00],\n",
              "       [9.99906421e-01, 9.35299831e-05],\n",
              "       [1.00000000e+00, 5.09154212e-11],\n",
              "       [1.27720048e-08, 1.00000000e+00],\n",
              "       [9.99882936e-01, 1.17060350e-04],\n",
              "       [1.49480229e-06, 9.99998450e-01],\n",
              "       [7.99445579e-12, 1.00000000e+00],\n",
              "       [4.52589691e-01, 5.47410309e-01],\n",
              "       [9.99986887e-01, 1.30581857e-05],\n",
              "       [4.89277265e-11, 1.00000000e+00],\n",
              "       [9.96804953e-01, 3.19504854e-03],\n",
              "       [3.86107749e-05, 9.99961376e-01],\n",
              "       [1.27749145e-14, 1.00000000e+00],\n",
              "       [1.12718137e-08, 1.00000000e+00],\n",
              "       [1.23929976e-05, 9.99987602e-01],\n",
              "       [1.00000000e+00, 3.72903619e-09],\n",
              "       [9.98069704e-01, 1.93032890e-03],\n",
              "       [9.97785807e-01, 2.21422594e-03],\n",
              "       [4.20266497e-06, 9.99995828e-01],\n",
              "       [1.43912970e-07, 9.99999881e-01],\n",
              "       [1.00000000e+00, 1.11183474e-09],\n",
              "       [9.99716699e-01, 2.83276924e-04],\n",
              "       [9.97403085e-01, 2.59686494e-03],\n",
              "       [9.99988914e-01, 1.11192012e-05],\n",
              "       [7.63116859e-09, 1.00000000e+00],\n",
              "       [4.45792779e-07, 9.99999523e-01],\n",
              "       [4.05444875e-02, 9.59455550e-01],\n",
              "       [1.00000000e+00, 2.03320333e-10],\n",
              "       [1.00000000e+00, 1.00858606e-10],\n",
              "       [2.26927757e-08, 1.00000000e+00]], dtype=float32)"
            ]
          },
          "metadata": {
            "tags": []
          },
          "execution_count": 52
        }
      ]
    },
    {
      "cell_type": "code",
      "metadata": {
        "colab": {
          "base_uri": "https://localhost:8080/",
          "height": 281
        },
        "id": "Ma_ijdkTTWEl",
        "outputId": "718da6c8-d1bf-451f-c747-e82c08425f47"
      },
      "source": [
        "n = 1\n",
        "\n",
        "def show_prediction_result(n):\n",
        "  img = imread(test_generator.filepaths[n])\n",
        "  pred = model.predict(np.expand_dims(color.gray2rgb(img), axis=0))\n",
        "  title = 'Predict : '+str(np.argmax(pred))\n",
        "  plt.imshow(img/255, cmap='gray')\n",
        "  plt.title(title)\n",
        "  plt.show()\n",
        "\n",
        "show_prediction_result(n)"
      ],
      "execution_count": null,
      "outputs": [
        {
          "output_type": "display_data",
          "data": {
            "image/png": "[encoded data removed]",
            "text/plain": [
              "<Figure size 432x288 with 1 Axes>"
            ]
          },
          "metadata": {
            "tags": [],
            "needs_background": "light"
          }
        }
      ]
    },
    {
      "cell_type": "code",
      "metadata": {
        "colab": {
          "base_uri": "https://localhost:8080/",
          "height": 281
        },
        "id": "xNaqwuIVTunK",
        "outputId": "64e3bdc0-6e1c-495f-f7b1-57c6ea867b98"
      },
      "source": [
        "show_prediction_result(40)"
      ],
      "execution_count": null,
      "outputs": [
        {
          "output_type": "display_data",
          "data": {
            "image/png": "[encoded data removed]",
            "text/plain": [
              "<Figure size 432x288 with 1 Axes>"
            ]
          },
          "metadata": {
            "tags": [],
            "needs_background": "light"
          }
        }
      ]
    },
    {
      "cell_type": "code",
      "metadata": {
        "id": "qpsq0SjZUBin"
      },
      "source": [
        ""
      ],
      "execution_count": null,
      "outputs": []
    }
  ]
}